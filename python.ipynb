{
 "cells": [
  {
   "cell_type": "code",
   "execution_count": 1,
   "id": "694d1ec4",
   "metadata": {},
   "outputs": [
    {
     "name": "stdout",
     "output_type": "stream",
     "text": [
      "[24, 35, 9, 56, 12]\n"
     ]
    }
   ],
   "source": [
    "                                       #SWAPPING\n",
    "def swap(nList):\n",
    "    size = len(nList)\n",
    "    temp = nList[0]\n",
    "    nList[0]=nList[size-1]\n",
    "    nList[size-1]=temp\n",
    "    return nList\n",
    "nList = [12,35,9,56,24]\n",
    "print(swap(nList))"
   ]
  },
  {
   "cell_type": "code",
   "execution_count": 2,
   "id": "8a821277",
   "metadata": {},
   "outputs": [
    {
     "name": "stdout",
     "output_type": "stream",
     "text": [
      "[4, 2, 3, 1]\n"
     ]
    }
   ],
   "source": [
    "def swap(nList):\n",
    "    nList[0],nList[-1]=nList[-1],nList[0]\n",
    "    return nList\n",
    "nList=[1,2,3,4]\n",
    "print(swap(nList))"
   ]
  },
  {
   "cell_type": "code",
   "execution_count": 3,
   "id": "84709748",
   "metadata": {},
   "outputs": [
    {
     "name": "stdout",
     "output_type": "stream",
     "text": [
      "(4, 2, 3, 1)\n"
     ]
    }
   ],
   "source": [
    "def swap(nList):\n",
    "    start,*middle,end = nList\n",
    "    nList = (end,*middle,start)\n",
    "    return nList\n",
    "nList = [1,2,3,4]\n",
    "print(swap(nList))"
   ]
  },
  {
   "cell_type": "code",
   "execution_count": 4,
   "id": "c654fca0",
   "metadata": {},
   "outputs": [
    {
     "name": "stdout",
     "output_type": "stream",
     "text": [
      "Enter the number of elements : 5\n",
      "1\n",
      "2\n",
      "3\n",
      "4\n",
      "5\n",
      "[1, 2, 3, 4, 5]\n"
     ]
    }
   ],
   "source": [
    "#Taking array input\n",
    "a =[]\n",
    "b = int(input(\"Enter the number of elements : \"))\n",
    "for i in range(b):\n",
    "    ele = int(input())\n",
    "    a.append(ele)\n",
    "print(a)"
   ]
  },
  {
   "cell_type": "code",
   "execution_count": 10,
   "id": "49a220dc",
   "metadata": {
    "scrolled": true
   },
   "outputs": [
    {
     "name": "stdout",
     "output_type": "stream",
     "text": [
      "Number of elements : 3\n",
      "123\n",
      "1 2 3\n",
      "1\n",
      "[[123], [1, 2, 3], [1]]\n"
     ]
    }
   ],
   "source": [
    "#Taking array input with white space of multiple array inside\n",
    "a = []\n",
    "b = int(input(\"Number of elements : \"))\n",
    "for i in range(b):\n",
    "    ele = list(map(int,input().split()))\n",
    "    a.append(ele)\n",
    "print(a)"
   ]
  },
  {
   "cell_type": "markdown",
   "id": "5e1ecf9f",
   "metadata": {},
   "source": [
    "\n"
   ]
  },
  {
   "cell_type": "code",
   "execution_count": 8,
   "id": "0fce1883",
   "metadata": {},
   "outputs": [
    {
     "name": "stdout",
     "output_type": "stream",
     "text": [
      "Number of elements : 5\n",
      "1 2 3 4 5\n",
      "[1, 2, 3, 4, 5]\n"
     ]
    }
   ],
   "source": [
    "#Taking array input with white space\n",
    "b = int(input(\"Number of elements : \"))\n",
    "a = list(map(int,input().split()))\n",
    "if(len(a)==b):\n",
    "    print(a)\n",
    "else:\n",
    "    print(\"oops\")"
   ]
  },
  {
   "cell_type": "code",
   "execution_count": 8,
   "id": "0b13896e",
   "metadata": {},
   "outputs": [
    {
     "name": "stdout",
     "output_type": "stream",
     "text": [
      "1 2 3 4 5\n",
      "List :  [1, 2, 3, 4, 5]\n",
      "Enter the first element : 1\n",
      "Enter the second element : 5\n",
      "[5, 2, 3, 4, 1]\n"
     ]
    }
   ],
   "source": [
    "#Python program to swap two elements in a list\n",
    "def swapby(nList,a,b):\n",
    "    nList[a],nList[b]=nList[b],nList[a]\n",
    "    return nList\n",
    "nList = list(map(int,input().split()))\n",
    "print(\"List : \",nList)\n",
    "a = int(input(\"Enter the first element : \"))\n",
    "b = int(input(\"Enter the second element : \"))\n",
    "print(swapby(nList,a-1,b-1))"
   ]
  },
  {
   "cell_type": "code",
   "execution_count": 14,
   "id": "02503f3f",
   "metadata": {},
   "outputs": [
    {
     "name": "stdout",
     "output_type": "stream",
     "text": [
      "Enter the string : khokho\n",
      "Symmetrical\n",
      "Not Palindrome\n"
     ]
    }
   ],
   "source": [
    "                                       #Palindrome/Symmetrical\n",
    "string =input(\"Enter the string : \")\n",
    "half = int(len(string)/2)\n",
    "\n",
    "if len(string)%2 == 0:\n",
    "    first_str = string[:half]\n",
    "    second_str = string[half:]\n",
    "else:\n",
    "    first_str = string[:half]\n",
    "    second_str = string[half+1:]\n",
    "\n",
    "if first_str == second_str:\n",
    "    print(\"Symmetrical\")\n",
    "else:\n",
    "    print(\"Not Symmetrical\")\n",
    "\n",
    "if first_str == second_str[::-1]:\n",
    "    print(\"Palindrome\")\n",
    "else:\n",
    "    print(\"Not Palindrome\")\n"
   ]
  },
  {
   "cell_type": "code",
   "execution_count": 15,
   "id": "26b99d2d",
   "metadata": {},
   "outputs": [
    {
     "name": "stdout",
     "output_type": "stream",
     "text": [
      "Siva am I Hello\n"
     ]
    }
   ],
   "source": [
    "                                        #Reversing a string\n",
    "a = \"Hello I am Siva\"\n",
    "b = a.split()\n",
    "c = b[::-1]\n",
    "d = ' '.join(c)\n",
    "print(d)"
   ]
  },
  {
   "cell_type": "code",
   "execution_count": 16,
   "id": "36ef36dc",
   "metadata": {},
   "outputs": [
    {
     "name": "stdout",
     "output_type": "stream",
     "text": [
      "removed L :  wiingness\n",
      "removed only one i :  wllingness\n"
     ]
    }
   ],
   "source": [
    "                                        #Removing an element\n",
    "a = \"willingness\"\n",
    "\n",
    "print(\"removed L : \",a.replace('l',''))\n",
    "print(\"removed only one i : \",a.replace('i','',1))"
   ]
  },
  {
   "cell_type": "code",
   "execution_count": 19,
   "id": "1f26cd18",
   "metadata": {},
   "outputs": [
    {
     "name": "stdout",
     "output_type": "stream",
     "text": [
      "This is string\n"
     ]
    }
   ],
   "source": [
    "                                #Print even len string\n",
    "l = []\n",
    "a = \"This is a string\"\n",
    "b = a.split()\n",
    "for i in b:\n",
    "    if len(i)%2==0:\n",
    "        l.append(i)\n",
    "print(' '.join(l))"
   ]
  },
  {
   "cell_type": "code",
   "execution_count": 22,
   "id": "6771fc42",
   "metadata": {},
   "outputs": [
    {
     "name": "stdout",
     "output_type": "stream",
     "text": [
      "Size is :  104 Bytes\n"
     ]
    }
   ],
   "source": [
    "                                          #Size of Tuple\n",
    "import sys\n",
    "a = (\"A\",1,\"B\",2,\"C\",3,\"D\",4)\n",
    "print(\"Size is : \",str(sys.getsizeof(a)) + \" Bytes\")"
   ]
  },
  {
   "cell_type": "code",
   "execution_count": 24,
   "id": "ab8e6d7e",
   "metadata": {},
   "outputs": [
    {
     "name": "stdout",
     "output_type": "stream",
     "text": [
      "Orginal Tuple :  (5, 20, 3, 7, 6, 8)\n",
      "[[3], [20]]\n"
     ]
    }
   ],
   "source": [
    "                                    #Max&Min K element in Tuple\n",
    "a = (5,20,3,7,6,8)\n",
    "print(\"Orginal Tuple : \",str(a))\n",
    "K=1\n",
    "\n",
    "b = list(a)\n",
    "temp = sorted(b)\n",
    "res = [temp[:K],temp[-K:]]\n",
    "print(res)"
   ]
  },
  {
   "cell_type": "code",
   "execution_count": 26,
   "id": "ac1ac89e",
   "metadata": {},
   "outputs": [
    {
     "name": "stdout",
     "output_type": "stream",
     "text": [
      "Orginal Tuple :  ([7, 8], [9, 1], [10, 7])\n",
      "42\n"
     ]
    }
   ],
   "source": [
    "                                   #Sum of elements in a Tuple\n",
    "a = ([7,8],[9,1],[10,7])\n",
    "print(\"Orginal Tuple : \",str(a))\n",
    "\n",
    "summ = sum(list(map(sum,list(a))))\n",
    "print(summ)"
   ]
  },
  {
   "cell_type": "code",
   "execution_count": 27,
   "id": "6836351b",
   "metadata": {},
   "outputs": [
    {
     "name": "stdout",
     "output_type": "stream",
     "text": [
      "Orginal Tuple :  (7, 8, 9, 1, 10, 7)\n",
      "42\n"
     ]
    }
   ],
   "source": [
    "a = (7,8,9,1,10,7)\n",
    "print(\"Orginal Tuple : \",str(a))\n",
    "\n",
    "summ = sum(list(a))\n",
    "print(summ)"
   ]
  },
  {
   "cell_type": "code",
   "execution_count": 28,
   "id": "e2377d31",
   "metadata": {},
   "outputs": [
    {
     "name": "stdout",
     "output_type": "stream",
     "text": [
      "List :  [5, 5, 5, 5]\n",
      "20\n"
     ]
    }
   ],
   "source": [
    "#Sum of elements in a list\n",
    "a = [5,5,5,5]\n",
    "print(\"List : \",a)\n",
    "summ = sum(a)\n",
    "print(summ)"
   ]
  },
  {
   "cell_type": "code",
   "execution_count": 9,
   "id": "f45b092c",
   "metadata": {},
   "outputs": [
    {
     "name": "stdout",
     "output_type": "stream",
     "text": [
      "[[('q', 1), ('w', 2)], [('e', 3)], [('r', 4), ('t', 5), ('y', 6)]]\n",
      "[[('q', 1, 3), ('w', 2, 3)], [('e', 3, 2)], [('r', 4, 1), ('t', 5, 1), ('y', 6, 1)]]\n"
     ]
    }
   ],
   "source": [
    "                          #Row-Wise addition of element into Tuple\n",
    "lis = [[('q',1),('w',2)],[('e',3)],[('r',4),('t',5),('y',6)]]\n",
    "print(str(lis))\n",
    "rep = [3,2,1]\n",
    "\n",
    "res = [[sub + (rep[idx],) for sub in val] for idx,val in enumerate(lis)]\n",
    "print(res)"
   ]
  },
  {
   "cell_type": "code",
   "execution_count": 32,
   "id": "fb9f11d7",
   "metadata": {},
   "outputs": [
    {
     "name": "stdout",
     "output_type": "stream",
     "text": [
      "[(1, 1), (2, 8), (5, 125), (6, 216)]\n"
     ]
    }
   ],
   "source": [
    "                         #List of tuples having number and its cube\n",
    "list1 = [1,2,5,6]\n",
    "res = [(val,pow(val,3)) for val in list1]\n",
    "print(res)"
   ]
  },
  {
   "cell_type": "code",
   "execution_count": 10,
   "id": "252488e1",
   "metadata": {},
   "outputs": [
    {
     "name": "stdout",
     "output_type": "stream",
     "text": [
      "[1, 8, 125, 216]\n"
     ]
    }
   ],
   "source": [
    "                         #Cube of each element in a list\n",
    "list1 = [1,2,5,6]\n",
    "res = []\n",
    "for i in list1:\n",
    "    res.append(pow(i,3))\n",
    "print(res)"
   ]
  },
  {
   "cell_type": "code",
   "execution_count": 15,
   "id": "7ce85157",
   "metadata": {},
   "outputs": [
    {
     "name": "stdout",
     "output_type": "stream",
     "text": [
      "{'a': 2, 'b': 4, 'c': 3, 'd': 5, 'e': 6}\n"
     ]
    }
   ],
   "source": [
    "                         #Sort Python Dictionaries by Key\n",
    "myDic = {\"b\":4,\"e\":6,\"a\":2,\"c\":3,\"d\":5}\n",
    "myKeys = list(myDic.keys())\n",
    "myKeys.sort()\n",
    "res = {i:myDic[i] for i in myKeys}\n",
    "print(res)"
   ]
  },
  {
   "cell_type": "code",
   "execution_count": 27,
   "id": "6400b929",
   "metadata": {},
   "outputs": [
    {
     "name": "stdout",
     "output_type": "stream",
     "text": [
      "{(10, 20, 30): 0, (5, 2, 4): 3}\n"
     ]
    }
   ],
   "source": [
    "                    #Dictionary with keys having multiple inputs\n",
    "dic = {}\n",
    "\n",
    "x,y,z = 10,20,30\n",
    "dic[x,y,z] = x+y-z\n",
    "\n",
    "x,y,z = 5,2,4\n",
    "dic[x,y,z]=x+y-z\n",
    "\n",
    "print(dic)"
   ]
  },
  {
   "cell_type": "code",
   "execution_count": 32,
   "id": "7ef8965d",
   "metadata": {},
   "outputs": [
    {
     "name": "stdout",
     "output_type": "stream",
     "text": [
      "Sum :  600\n"
     ]
    }
   ],
   "source": [
    "                           #Sum of values in dictionary\n",
    "def addition(dict):\n",
    "    sum=0\n",
    "    for i in dict.values():\n",
    "        sum += i \n",
    "    return sum\n",
    "\n",
    "dict = {'a':100,'b':200,'c':300}\n",
    "print(\"Sum : \",addition(dict))"
   ]
  },
  {
   "cell_type": "code",
   "execution_count": 112,
   "id": "122cb3ab",
   "metadata": {},
   "outputs": [
    {
     "name": "stdout",
     "output_type": "stream",
     "text": [
      "232 Bytes\n"
     ]
    }
   ],
   "source": [
    "                              #Size of a Dictionary\n",
    "import sys\n",
    "dict = {'a':100,'b':200,'c':300}\n",
    "print(str(sys.getsizeof(dict))+\" Bytes\")"
   ]
  },
  {
   "cell_type": "code",
   "execution_count": 33,
   "id": "23423ae7",
   "metadata": {},
   "outputs": [
    {
     "name": "stdout",
     "output_type": "stream",
     "text": [
      "v\n",
      "s\n",
      "i\n",
      "a\n"
     ]
    }
   ],
   "source": [
    "                              #Iterate over a set\n",
    "a = set(\"siva\")\n",
    "for i in a:\n",
    "    print(i)"
   ]
  },
  {
   "cell_type": "code",
   "execution_count": 37,
   "id": "04c4de69",
   "metadata": {},
   "outputs": [
    {
     "name": "stdout",
     "output_type": "stream",
     "text": [
      "{9, 10, 12, 13, 15}\n",
      "{10, 12, 13, 15}\n",
      "{12, 13, 15}\n",
      "{13, 15}\n",
      "{15}\n",
      "set()\n"
     ]
    }
   ],
   "source": [
    "                            #Removing values 1 by 1 in set\n",
    "def Remove(a):\n",
    "    while a:\n",
    "        a.pop()\n",
    "        print(a)\n",
    "a = set([12,10,13,15,8,9])\n",
    "Remove(a)"
   ]
  },
  {
   "cell_type": "code",
   "execution_count": 38,
   "id": "341b2e40",
   "metadata": {},
   "outputs": [
    {
     "name": "stdout",
     "output_type": "stream",
     "text": [
      "True\n",
      "False\n"
     ]
    }
   ],
   "source": [
    "                             #Checks for commmon value in list\n",
    "def data(a,b):\n",
    "    result = False\n",
    "    for i in a:\n",
    "        for j in b:\n",
    "            if(i==j):\n",
    "                result = True\n",
    "                return result\n",
    "    return result\n",
    "    \n",
    "a = [1,2,3,4,5]\n",
    "b = [5,6,7,8,9]\n",
    "print(data(a,b))\n",
    "\n",
    "a = [1,2,3,4,5]\n",
    "b = [6,7,8,9,10]\n",
    "print(data(a,b))"
   ]
  },
  {
   "cell_type": "code",
   "execution_count": 2,
   "id": "8ee13042",
   "metadata": {},
   "outputs": [
    {
     "name": "stdout",
     "output_type": "stream",
     "text": [
      "Orginal List :  [[1, 2, 3], [4, 5, 6], [7, 8, 9], [3, 2, 1]]\n",
      "{1: [4, 5, 6], 2: [7, 8, 9], 3: [3, 2, 1]}\n"
     ]
    }
   ],
   "source": [
    "                        #Assigning rows to matrix first row element\n",
    "nList = [[1,2,3],[4,5,6],[7,8,9],[3,2,1]]\n",
    "print(\"Orginal List : \", str(nList))\n",
    "\n",
    "res = {nList[0][ele]:nList[ele+1] for ele in range(len(nList)-1)}\n",
    "print(res)"
   ]
  },
  {
   "cell_type": "code",
   "execution_count": 52,
   "id": "7ae759cd",
   "metadata": {},
   "outputs": [
    {
     "name": "stdout",
     "output_type": "stream",
     "text": [
      "First Matrix : \n",
      "[[1 2]\n",
      " [3 4]]\n",
      "\n",
      "\n",
      "Second Matrix : \n",
      "[[4 5]\n",
      " [6 7]]\n",
      "Added Matrix : \n",
      "[[ 5  7]\n",
      " [ 9 11]]\n",
      "\n",
      "\n",
      "Subtracted Matrix : \n",
      "[[-3 -3]\n",
      " [-3 -3]]\n"
     ]
    }
   ],
   "source": [
    "                        #Matrix Addition & Subtraction\n",
    "import numpy as np\n",
    "\n",
    "A = np.array([[1,2],[3,4]])\n",
    "B = np.array([[4,5],[6,7]])\n",
    "\n",
    "print(\"First Matrix : \")\n",
    "print(A)\n",
    "print(\"\\n\")\n",
    "print(\"Second Matrix : \")\n",
    "print(B)\n",
    "\n",
    "print(\"Added Matrix : \")\n",
    "print(np.add(A,B))\n",
    "print(\"\\n\")\n",
    "print(\"Subtracted Matrix : \")\n",
    "print(np.subtract(A,B))\n"
   ]
  },
  {
   "cell_type": "code",
   "execution_count": 4,
   "id": "aac27b2e",
   "metadata": {},
   "outputs": [
    {
     "name": "stdout",
     "output_type": "stream",
     "text": [
      "Orginal List :  [1, 3, 5, 1, 3, 2, 5, 4, 2]\n",
      "[[1, 1], [2, 2], [3, 3], [4], [5, 5]]\n"
     ]
    }
   ],
   "source": [
    "                         #Group Similar elements into matrix\n",
    "from itertools import groupby\n",
    "a = [1,3,5,1,3,2,5,4,2]\n",
    "print(\"Orginal List : \", str(a))\n",
    "\n",
    "res = [list(val) for key,val in groupby(sorted(a))]\n",
    "print(res)"
   ]
  },
  {
   "cell_type": "code",
   "execution_count": 13,
   "id": "c6f2624e",
   "metadata": {},
   "outputs": [
    {
     "name": "stdout",
     "output_type": "stream",
     "text": [
      "4 3 2 1 \n",
      "8 7 6 5 \n",
      "12 11 10 9 \n",
      "16 15 14 13 \n"
     ]
    }
   ],
   "source": [
    "                        #NXN Square Matrix, where opposite corner is even\n",
    "import itertools\n",
    "def mat(n):\n",
    "    temp = itertools.count(1)\n",
    "    l = [[next(temp) for i in range(n)] for i in range(n)]\n",
    "    \n",
    "    if n%2==0:\n",
    "        for i in range(0,len(l)):\n",
    "            l[i][:]=l[i][::-1]\n",
    "    for i in range(n):\n",
    "        for j in range(n):\n",
    "            print(l[i][j],end=' ')\n",
    "        print()\n",
    "n=4\n",
    "mat(n)"
   ]
  },
  {
   "cell_type": "code",
   "execution_count": 69,
   "id": "ef7e1d12",
   "metadata": {},
   "outputs": [
    {
     "name": "stdout",
     "output_type": "stream",
     "text": [
      "[[ 9 16 21]\n",
      " [24 25 24]\n",
      " [21 16  9]]\n"
     ]
    }
   ],
   "source": [
    "                                 #Matrix Multiplication\n",
    "import numpy as np\n",
    "\n",
    "X = np.array([[1,2,3],[4,5,6],[7,8,9]])\n",
    "Y =np.array([[9,8,7],[6,5,4],[3,2,1]])\n",
    "\n",
    "print(np.multiply(X,Y))"
   ]
  },
  {
   "cell_type": "code",
   "execution_count": 14,
   "id": "4d2aa7e3",
   "metadata": {},
   "outputs": [
    {
     "name": "stdout",
     "output_type": "stream",
     "text": [
      "(a, b)\n"
     ]
    }
   ],
   "source": [
    "                            #Patamater name from a function\n",
    "def fun(a,b):\n",
    "    return a**b\n",
    "import inspect\n",
    "print(inspect.signature(fun))"
   ]
  },
  {
   "cell_type": "code",
   "execution_count": 71,
   "id": "879bd9af",
   "metadata": {},
   "outputs": [
    {
     "name": "stdout",
     "output_type": "stream",
     "text": [
      "Number : 2\n",
      "Power : 3\n",
      "8\n"
     ]
    }
   ],
   "source": [
    "                                 #Power of numbers\n",
    "a = int(input(\"Number : \"))\n",
    "b = int(input(\"Power : \"))\n",
    "print(pow(a,b))"
   ]
  },
  {
   "cell_type": "code",
   "execution_count": 18,
   "id": "d25b95a8",
   "metadata": {},
   "outputs": [
    {
     "name": "stdout",
     "output_type": "stream",
     "text": [
      "[('c', 1), ('e', 2), ('b', 3), ('g', 3), ('a', 4)]\n"
     ]
    }
   ],
   "source": [
    "                                  #Sorting in class\n",
    "class GFG:\n",
    "    def __init__(self,a,b):\n",
    "        self.a=a\n",
    "        self.b=b\n",
    "    def __repr__(self):\n",
    "        return str((self.a,self.b))\n",
    "\n",
    "gfg = [GFG(\"c\",1),GFG(\"b\",3),GFG(\"e\",2),GFG(\"a\",4),GFG(\"g\",3)]\n",
    "\n",
    "print(sorted(gfg, key=lambda x : x.b))"
   ]
  },
  {
   "cell_type": "code",
   "execution_count": 83,
   "id": "69a3c06a",
   "metadata": {},
   "outputs": [
    {
     "name": "stdout",
     "output_type": "stream",
     "text": [
      "[('a', 4), ('b', 3), ('c', 1), ('e', 2), ('g', 3)]\n"
     ]
    }
   ],
   "source": [
    "\n",
    "class GFG:\n",
    "    def __init__(self,a,b):\n",
    "        self.a=a\n",
    "        self.b=b\n",
    "    def __repr__(self):\n",
    "        return str((self.a,self.b))\n",
    "gfg = [GFG(\"c\",1),GFG(\"b\",3),GFG(\"e\",2),GFG(\"a\",4),GFG(\"g\",3)]\n",
    "print(sorted(gfg, key=lambda x: x.a.lower()))"
   ]
  },
  {
   "cell_type": "code",
   "execution_count": 22,
   "id": "2621395e",
   "metadata": {},
   "outputs": [
    {
     "name": "stdout",
     "output_type": "stream",
     "text": [
      "16\n"
     ]
    }
   ],
   "source": [
    "                                #Lambda if-else Statement\n",
    "square = lambda x : pow(x,2) if(x>0) else None\n",
    "print(square(4))"
   ]
  },
  {
   "cell_type": "code",
   "execution_count": 27,
   "id": "41db6f5c",
   "metadata": {},
   "outputs": [
    {
     "name": "stdout",
     "output_type": "stream",
     "text": [
      "abcd\n"
     ]
    }
   ],
   "source": [
    "                         #Sorting string from reverse using order defined from another string\n",
    "def sortby(a,b):\n",
    "    a = list(a)\n",
    "    myDic = {a[i]:i for i in range(len(a))}\n",
    "    b = list(b)\n",
    "    b.sort(key = lambda ele : myDic[ele])\n",
    "    b.reverse()\n",
    "    new_b = ''.join(b)\n",
    "    return new_b\n",
    "if __name__==\"__main__\":\n",
    "    a = \"iudcba\"\n",
    "    b = \"bacd\"\n",
    "    print(sortby(a,b))   "
   ]
  },
  {
   "cell_type": "code",
   "execution_count": 30,
   "id": "d77e5f2d",
   "metadata": {},
   "outputs": [
    {
     "name": "stdout",
     "output_type": "stream",
     "text": [
      "[0, 1, 1, 2, 3]\n"
     ]
    }
   ],
   "source": [
    "                                #Fibonacci Series\n",
    "from functools import reduce\n",
    "fib = lambda n : reduce(lambda x,_ : x+[x[-1]+x[-2]],range(n-2),[0,1])\n",
    "print(fib(5))"
   ]
  },
  {
   "cell_type": "code",
   "execution_count": 31,
   "id": "0489bdaa",
   "metadata": {},
   "outputs": [
    {
     "name": "stdout",
     "output_type": "stream",
     "text": [
      "Even :  4\n",
      "Odd :  5\n"
     ]
    }
   ],
   "source": [
    "                              #Odd & Even number in list\n",
    "list1 = [1,2,3,4,5,6,7,8,9]\n",
    "a,b = 0,0\n",
    "for num in list1:\n",
    "    if num%2==0:\n",
    "        a+=1\n",
    "    else:\n",
    "        b+=1\n",
    "print(\"Even : \",a)\n",
    "print(\"Odd : \",b)"
   ]
  },
  {
   "cell_type": "code",
   "execution_count": 3,
   "id": "ed2744aa",
   "metadata": {},
   "outputs": [
    {
     "name": "stdout",
     "output_type": "stream",
     "text": [
      "*\n",
      "**\n",
      "***\n",
      "****\n",
      "*****\n",
      "* * * * \n",
      "* * * \n",
      "* * \n",
      "* \n"
     ]
    }
   ],
   "source": [
    "                              #Half Diamond Star Formation \n",
    "def diamond(n):\n",
    "    for i in range(n):\n",
    "        for j in range(0,i+1):\n",
    "            print(\"*\",end='')\n",
    "        print()\n",
    "    for i in range(1,n):\n",
    "        for j in range(i,n):\n",
    "            print(\"*\",end='')\n",
    "        print()\n",
    "n=5\n",
    "diamond(n)"
   ]
  },
  {
   "cell_type": "code",
   "execution_count": 35,
   "id": "b54d4254",
   "metadata": {},
   "outputs": [
    {
     "name": "stdout",
     "output_type": "stream",
     "text": [
      "     \n",
      "    *\n",
      "   **\n",
      "  ***\n",
      " ****\n"
     ]
    }
   ],
   "source": [
    "                              #Left Angle Triangle Pattern\n",
    "def leftangle(n):\n",
    "    for i in range(n):\n",
    "        print(\" \"*(n-i)+\"*\"*i)\n",
    "n = 5\n",
    "leftangle(n)"
   ]
  },
  {
   "cell_type": "code",
   "execution_count": 64,
   "id": "275856df",
   "metadata": {},
   "outputs": [
    {
     "name": "stdout",
     "output_type": "stream",
     "text": [
      "    * \n",
      "   * * \n",
      "  * * * \n",
      " * * * * \n",
      "* * * * * \n"
     ]
    }
   ],
   "source": [
    "                                #Triangle Pattern\n",
    "def triangle(n):\n",
    "    k = n-1\n",
    "    for i in range(0,n):\n",
    "        for j in range(0,k):\n",
    "            print(end=\" \")\n",
    "        k = k-1\n",
    "        for j in range(0,i+1):\n",
    "            print(\"* \",end=\"\")\n",
    "        print()\n",
    "n = 5\n",
    "triangle(n)"
   ]
  },
  {
   "cell_type": "code",
   "execution_count": 16,
   "id": "7ac39816",
   "metadata": {},
   "outputs": [
    {
     "name": "stdout",
     "output_type": "stream",
     "text": [
      "    * \n",
      "   * * \n",
      "  * * * \n",
      " * * * * \n",
      "* * * * * \n",
      " * * * * \n",
      "  * * * \n",
      "   * * \n",
      "    * \n"
     ]
    }
   ],
   "source": [
    "def diamond(n):\n",
    "    k = n-1\n",
    "    for i in range(0,n):\n",
    "        for j in range(0,k):\n",
    "            print(end=\" \")\n",
    "        k = k-1\n",
    "        for j in range(0,i+1):\n",
    "            print(\"* \",end=\"\")\n",
    "        print()\n",
    "    for i in range(1,n):\n",
    "        a = print(\" \"*i+\"* \"*(n-i))\n",
    "n = 5\n",
    "diamond(n)"
   ]
  },
  {
   "cell_type": "code",
   "execution_count": 30,
   "id": "3ff0ef4c",
   "metadata": {},
   "outputs": [
    {
     "name": "stdout",
     "output_type": "stream",
     "text": [
      "****\n",
      "*\n",
      "***\n",
      "**\n",
      "*****\n"
     ]
    }
   ],
   "source": [
    "                                    #Print Digit Pattern\n",
    "n = 41325\n",
    "a = str(n)\n",
    "for i in a:\n",
    "    for j in range(int(i)):\n",
    "        print(\"*\",end=\"\")\n",
    "    print()"
   ]
  },
  {
   "cell_type": "code",
   "execution_count": 33,
   "id": "f8e5ec30",
   "metadata": {},
   "outputs": [
    {
     "name": "stdout",
     "output_type": "stream",
     "text": [
      "TIme :  12:16:59\n"
     ]
    }
   ],
   "source": [
    "                                    #Current Time using PYTZ\n",
    "from datetime import *\n",
    "import pytz\n",
    "\n",
    "tz_IND = pytz.timezone('Asia/Kolkata')\n",
    "dt_IND = datetime.now(tz_IND)\n",
    "print('TIme : ',dt_IND.strftime(\"%H:%M:%S\"))"
   ]
  },
  {
   "cell_type": "code",
   "execution_count": 37,
   "id": "5ee14706",
   "metadata": {},
   "outputs": [
    {
     "name": "stdout",
     "output_type": "stream",
     "text": [
      "12:24:57\n"
     ]
    }
   ],
   "source": [
    "import time\n",
    "TIme = time.localtime()\n",
    "currentTime = time.strftime(\"%H:%M:%S\",Time)\n",
    "print(currentTime)"
   ]
  },
  {
   "cell_type": "code",
   "execution_count": 40,
   "id": "10393c1d",
   "metadata": {},
   "outputs": [
    {
     "name": "stdout",
     "output_type": "stream",
     "text": [
      "Today's Date :  2023-01-26\n",
      "Yesterday's Date:  2023-01-25\n"
     ]
    }
   ],
   "source": [
    "                                #Date of today&yesterday\n",
    "from datetime import date\n",
    "from datetime import timedelta\n",
    "\n",
    "today = date.today()\n",
    "print(\"Today's Date : \", today)\n",
    "\n",
    "yesterday = today - timedelta(days=1)\n",
    "print(\"Yesterday's Date: \",yesterday)"
   ]
  },
  {
   "cell_type": "code",
   "execution_count": 4,
   "id": "7263925b",
   "metadata": {},
   "outputs": [
    {
     "name": "stdout",
     "output_type": "stream",
     "text": [
      "Welcome to the quiz\n",
      "What is the colour of banana\n",
      "yellow\n",
      "Correct\n",
      "Enter 0 to restart the quiz : 0\n",
      "What is the colour of banana\n",
      "yellow\n",
      "Correct\n",
      "Enter 0 to restart the quiz : 0\n",
      "What is the colour of orange\n",
      "orange\n",
      "Correct\n",
      "Enter 0 to restart the quiz : 1\n"
     ]
    }
   ],
   "source": [
    "import random\n",
    "class flashcard:\n",
    "    def __init__(self):\n",
    "        self.fruits = {\"apple\":\"red\",\"orange\":\"orange\",\"banana\":\"yellow\"}\n",
    "    def quiz(self):\n",
    "        while True:\n",
    "            fruit,color = random.choice(list(self.fruits.items()))\n",
    "            print(\"What is the colour of {}\".format(fruit))\n",
    "            a = input()\n",
    "            if(a.lower()==color):\n",
    "                print(\"Correct\")\n",
    "            else:\n",
    "                print(\"Wrong\")\n",
    "            option = int(input(\"Enter 0 to restart the quiz : \"))\n",
    "            if(option):\n",
    "                break\n",
    "print(\"Welcome to the quiz\")\n",
    "flashcard().quiz()"
   ]
  },
  {
   "cell_type": "code",
   "execution_count": 5,
   "id": "79c32d0a",
   "metadata": {},
   "outputs": [
    {
     "name": "stdout",
     "output_type": "stream",
     "text": [
      "There is a match\n"
     ]
    }
   ],
   "source": [
    "                     #Regex - Regular Expression to find matching string\n",
    "import re\n",
    "text = \"Hello World\"\n",
    "x = re.search(\"Hello\",text)\n",
    "if x:\n",
    "    print(\"There is a match\")\n",
    "else:\n",
    "    print(\"There is no match\")"
   ]
  },
  {
   "cell_type": "code",
   "execution_count": 14,
   "id": "1625dcb7",
   "metadata": {},
   "outputs": [
    {
     "name": "stdout",
     "output_type": "stream",
     "text": [
      "Orginal string <b>hello guys</b> i <b> am siva</b>\n",
      "Result :  ['hello guys', ' am siva']\n"
     ]
    }
   ],
   "source": [
    "                     #To find content inside html tag\n",
    "import re\n",
    "html= '<b>hello guys</b> i <b> am siva</b>'\n",
    "print(\"Orginal string\",str(html))\n",
    "\n",
    "tag = \"b\"\n",
    "reg = \"<\"+tag+\">\"+\"(.*?)</\"+tag+\">\"\n",
    "res = re.findall(reg,html)\n",
    "print(\"Result : \",res)"
   ]
  },
  {
   "cell_type": "code",
   "execution_count": 32,
   "id": "891adfdd",
   "metadata": {},
   "outputs": [
    {
     "name": "stdout",
     "output_type": "stream",
     "text": [
      "Matches\n",
      "Not a match\n"
     ]
    }
   ],
   "source": [
    "                           #RE for checking match\n",
    "import re\n",
    "def check(str,pattern):\n",
    "    if re.search(pattern,str):\n",
    "        print(\"Matches\")\n",
    "    else:\n",
    "        print(\"Not a match\")\n",
    "pattern = re.compile(\"^[123456]+$\")\n",
    "check('125',pattern)\n",
    "check('127',pattern)"
   ]
  },
  {
   "cell_type": "code",
   "execution_count": 58,
   "id": "d507116c",
   "metadata": {},
   "outputs": [
    {
     "name": "stdout",
     "output_type": "stream",
     "text": [
      "5\n",
      "Present\n"
     ]
    }
   ],
   "source": [
    "                                     #Linear Search\n",
    "def lsearch(a,b):\n",
    "    for i in a:\n",
    "        if i==b:\n",
    "            print(\"Present\")\n",
    "            return\n",
    "    print(\"Not present\")\n",
    "    return\n",
    "a = [1,2,3,4,5]\n",
    "b = int(input())\n",
    "lsearch(a,b)"
   ]
  },
  {
   "cell_type": "code",
   "execution_count": 2,
   "id": "aa236c83",
   "metadata": {},
   "outputs": [
    {
     "name": "stdout",
     "output_type": "stream",
     "text": [
      "Enter : 6\n",
      "Element not present\n"
     ]
    }
   ],
   "source": [
    "                                    #Binary Search\n",
    "def bsearch(a,x):\n",
    "    low = 0\n",
    "    high = len(a) - 1\n",
    "    mid = 0\n",
    "    while low<=high:\n",
    "        mid = (high+low)//2\n",
    "        \n",
    "        if a[mid]<x:\n",
    "            low = mid+1\n",
    "        elif a[mid]>x:\n",
    "            high = mid-1\n",
    "        else:\n",
    "            return mid\n",
    "    return -1\n",
    "\n",
    "a = [1,2,3,4,5]\n",
    "x = int(input(\"Enter : \"))\n",
    "result = bsearch(a,x)\n",
    "\n",
    "if result!=-1:\n",
    "    print(\"Element Present in index \",str(result))\n",
    "else:\n",
    "    print(\"Element not present\")\n",
    "   "
   ]
  },
  {
   "cell_type": "code",
   "execution_count": 7,
   "id": "1d12fdb1",
   "metadata": {},
   "outputs": [
    {
     "name": "stdout",
     "output_type": "stream",
     "text": [
      "Enter the word : cat\n",
      "Found in :  4\n",
      "Found in :  11\n",
      "Found in :  22\n"
     ]
    }
   ],
   "source": [
    "                                        # Anagram                \n",
    "def ana(a,b):\n",
    "    if sorted(a)==sorted(b):\n",
    "        return True\n",
    "    return False\n",
    "def search(txt,wrd):\n",
    "    t=0\n",
    "    lt=len(txt)\n",
    "    lw=(len(wrd))\n",
    "    \n",
    "    for i in range(lt-lw+1):\n",
    "        if ana(txt[i:i+lw],wrd):\n",
    "            t=1\n",
    "            print(\"Found in : \",i)\n",
    "    if t==0:\n",
    "        print(\"Anagram not found\")\n",
    "txt = \"The cat is actually a cat\"\n",
    "wrd = input(\"Enter the word : \")\n",
    "search(txt,wrd)                                                                                                    "
   ]
  },
  {
   "cell_type": "code",
   "execution_count": 10,
   "id": "9673f161",
   "metadata": {},
   "outputs": [
    {
     "name": "stdout",
     "output_type": "stream",
     "text": [
      "Sorted array is : \n",
      "11 12 22 25 34 64 90 "
     ]
    }
   ],
   "source": [
    "                                          #Bubble Sort\n",
    "def bubblesort(a):\n",
    "    n = len(a)\n",
    "    swapped = False\n",
    "    \n",
    "    for i in range(n-1):\n",
    "        for j in range(0,n-i-1):\n",
    "            \n",
    "            if a[j]>a[j+1]:\n",
    "                swapped = True\n",
    "                a[j],a[j+1] = a[j+1],a[j]\n",
    "        if not swapped:\n",
    "            return\n",
    "\n",
    "a = [64,34,25,12,22,11,90]\n",
    "bubblesort(a)\n",
    "\n",
    "print(\"Sorted array is : \")\n",
    "for i in range(len(a)):\n",
    "    print(a[i], end=\" \")\n",
    "               "
   ]
  },
  {
   "cell_type": "code",
   "execution_count": 40,
   "id": "dc0d6b36",
   "metadata": {},
   "outputs": [
    {
     "name": "stdout",
     "output_type": "stream",
     "text": [
      "15 10 5 20 3 2\n",
      "15 --> 20 --> None\n"
     ]
    }
   ],
   "source": [
    "                                     #MergeSort on Linked List\n",
    "class Node:\n",
    "    def __init__(self,data):\n",
    "        self.data = data\n",
    "        self.next = None\n",
    "        \n",
    "def takeInput():\n",
    "    inputList = [int(ele) for ele in input().strip().split()]\n",
    "    head = None\n",
    "    tail = None\n",
    "    \n",
    "    for ele in inputList:\n",
    "        if ele == -1:\n",
    "            break\n",
    "        newNode = Node(ele)\n",
    "        if head is None:\n",
    "            head = newNode\n",
    "            tail = newNode\n",
    "        else:\n",
    "            tail.next = newNode\n",
    "            tail = newNode\n",
    "    return head\n",
    "\n",
    "def merge2LL(head1,head2):\n",
    "    final_head = None\n",
    "    final_tail = None\n",
    "    if (head1 is None) and (head2 is None):\n",
    "        return head1\n",
    "    if (head1 is not None) and (head2 is None):\n",
    "        return head1\n",
    "    if (head1 is None) and (head2 is not None):\n",
    "        return head2\n",
    "    if head1.data < head2.data:\n",
    "        final_head = head1\n",
    "        final_tail = head1\n",
    "        head1 = head1.next\n",
    "    else: \n",
    "        final_head = head2\n",
    "        final_tail = head2\n",
    "        head2 = head2.next\n",
    "    \n",
    "    while (head1 is not None) and (head2 is not None):\n",
    "        if head1.data < head2.data:\n",
    "            final_tail.next = head1\n",
    "            final_tail = final_tail.next\n",
    "            head1 = head1.next\n",
    "        else:\n",
    "            final_tail.next = head2\n",
    "            final_tail = final_tail.next\n",
    "            head2 = head2.next\n",
    "            \n",
    "    if head1 is not None:\n",
    "        final_tail.next = head1\n",
    "    else:\n",
    "        final_tail.next = head2\n",
    "    return final_head\n",
    "\n",
    "def mergeSort(head):\n",
    "    if head.next is None:\n",
    "        return head\n",
    "    \n",
    "    slow = head\n",
    "    fast = head\n",
    "    mid = None\n",
    "    \n",
    "    if (fast.next is not None) and (fast.next.next is not None):\n",
    "        slow = slow.next\n",
    "        fast = fast.next.next\n",
    "    if slow is not None:\n",
    "        mid = slow\n",
    "    \n",
    "    head1 = head\n",
    "    head2 = mid.next\n",
    "    mid.next = None\n",
    "    left = mergeSort(head1)\n",
    "    right = mergeSort(head2)\n",
    "    finalHead = merge2LL(left,right)\n",
    "    return finalHead\n",
    "    \n",
    "def printLL(head):\n",
    "    while head is not None:\n",
    "        print(head.data,end=\" --> \")\n",
    "        head = head.next\n",
    "    print(\"None\")\n",
    "    \n",
    "li = takeInput()\n",
    "mergeSort(li)\n",
    "printLL(li)"
   ]
  },
  {
   "cell_type": "code",
   "execution_count": 3,
   "id": "68d4d48e",
   "metadata": {},
   "outputs": [
    {
     "name": "stdout",
     "output_type": "stream",
     "text": [
      "Size of Stack : 5\n",
      "Enter Element : 1\n",
      "Enter Element : 2\n",
      "Enter Element : 3\n",
      "Enter Element : 4\n",
      "Enter Element : 5\n",
      "Orginal Stack is : \n",
      "5\n",
      "4\n",
      "3\n",
      "2\n",
      "1\n",
      "Reversed Stack is : \n",
      "1\n",
      "2\n",
      "3\n",
      "4\n",
      "5\n"
     ]
    }
   ],
   "source": [
    "                                         #Reversing Stack\n",
    "class Stack:\n",
    "    def __init__(self):\n",
    "        self.Elements = []\n",
    "    def push(self,value):\n",
    "        self.Elements.append(value)\n",
    "    def pop(self):\n",
    "        return self.Elements.pop()\n",
    "    def empty(self):\n",
    "        return self.Elements == []\n",
    "    def show(self):\n",
    "        for value in reversed(self.Elements):\n",
    "            print(value)\n",
    "\n",
    "def BottomInsert(s,value):\n",
    "    if s.empty():\n",
    "        s.push(value)\n",
    "    else:\n",
    "        popped = s.pop()\n",
    "        BottomInsert(s,value)\n",
    "        s.push(popped)\n",
    "\n",
    "def Reverse(s):\n",
    "    if s.empty():\n",
    "        pass\n",
    "    else:\n",
    "        popped = s.pop()\n",
    "        Reverse(s)\n",
    "        BottomInsert(s,popped)\n",
    "\n",
    "stk = Stack()\n",
    "n = int(input(\"Size of Stack : \"))\n",
    "for i in range(0,n):\n",
    "    a = int(input(\"Enter Element : \"))\n",
    "    stk.push(a)\n",
    "    \n",
    "print(\"Orginal Stack is : \")\n",
    "stk.show()\n",
    "print(\"Reversed Stack is : \")\n",
    "Reverse(stk)\n",
    "stk.show()"
   ]
  },
  {
   "cell_type": "code",
   "execution_count": 4,
   "id": "f280b5dd",
   "metadata": {},
   "outputs": [
    {
     "name": "stdout",
     "output_type": "stream",
     "text": [
      "Enter Number of Vertices : 5\n",
      "3\n"
     ]
    }
   ],
   "source": [
    "                                     #EdgeCovered Calculator\n",
    "import math\n",
    "\n",
    "def edgeCover(n):\n",
    "    result = 0\n",
    "    result = math.ceil(n/2.0)\n",
    "    return result\n",
    "\n",
    "if __name__ == \"__main__\":\n",
    "    n = int(input(\"Enter Number of Vertices : \"))\n",
    "    print(int(edgeCover(n)))"
   ]
  },
  {
   "cell_type": "code",
   "execution_count": 15,
   "id": "d647f772",
   "metadata": {},
   "outputs": [
    {
     "name": "stdout",
     "output_type": "stream",
     "text": [
      "0 0 1 0 \n",
      "1 0 0 0 \n",
      "0 0 0 1 \n",
      "0 1 0 0 \n"
     ]
    },
    {
     "data": {
      "text/plain": [
       "True"
      ]
     },
     "execution_count": 15,
     "metadata": {},
     "output_type": "execute_result"
    }
   ],
   "source": [
    "global N\n",
    "N = 4\n",
    "\n",
    "def printSolution(board):\n",
    "    for i in range(N):\n",
    "        for j in range(N):\n",
    "            print(board[i][j],end=\" \")\n",
    "        print()\n",
    "\n",
    "def isSafe(board,row,col):\n",
    "    for i in range(col):\n",
    "        if board[row][i]==1:\n",
    "            return False\n",
    "    for i,j in zip(range(row,-1,-1),range(col,-1,-1)):\n",
    "        if board[i][j] == 1:\n",
    "            return False\n",
    "    for i,j in zip(range(row,N,1),range(col,-1,-1)):\n",
    "        if board[i][j] == 1:\n",
    "            return False\n",
    "    return True\n",
    "\n",
    "def solveNQUtil(board,col):\n",
    "    if col>=N:\n",
    "        return True\n",
    "    for row in range(N):\n",
    "        if isSafe(board,row,col):\n",
    "            board[row][col]=1\n",
    "            \n",
    "            if solveNQUtil(board,col+1)==True:\n",
    "                return True\n",
    "            \n",
    "            board[row][col]=0\n",
    "            \n",
    "    return False\n",
    "\n",
    "def solveNQ():\n",
    "    board = [[0,0,0,0],\n",
    "             [0,0,0,0],\n",
    "             [0,0,0,0],\n",
    "             [0,0,0,0]\n",
    "            ]\n",
    "    if solveNQUtil(board,0)==False:\n",
    "        print(\"No Solution\")\n",
    "        return False\n",
    "    printSolution(board)\n",
    "    return True\n",
    "\n",
    "solveNQ()"
   ]
  },
  {
   "cell_type": "code",
   "execution_count": 16,
   "id": "5ac89064",
   "metadata": {},
   "outputs": [
    {
     "name": "stdout",
     "output_type": "stream",
     "text": [
      "Enter the text : Hello there\n"
     ]
    }
   ],
   "source": [
    "                                         #File Handling\n",
    "#inputing text into file\n",
    "a = input(\"Enter the text : \")\n",
    "try:\n",
    "    with open('text.txt','w') as text:\n",
    "        text.write(a)\n",
    "except Exception as e:\n",
    "    print(\"There is a problem\",str(e))"
   ]
  },
  {
   "cell_type": "code",
   "execution_count": 18,
   "id": "0d435b91",
   "metadata": {},
   "outputs": [],
   "source": [
    "#Convert text to upper case\n",
    "with open('text.txt','r') as text:\n",
    "    with open('output.txt','a') as output:\n",
    "        for line in text:\n",
    "            output.write(line.upper())"
   ]
  },
  {
   "cell_type": "code",
   "execution_count": 2,
   "id": "8b42b7c1",
   "metadata": {},
   "outputs": [],
   "source": [
    "#Saving Dictionary in text file\n",
    "myDic = {'Name':'Siva Vimel Rajhen',\n",
    "        'Age':21,\n",
    "        'Aim':'AI Dev'}\n",
    "\n",
    "with open('file.txt','w') as file:\n",
    "    for key,value in myDic.items():\n",
    "        file.write('%s:%s\\n' % (key,value))"
   ]
  },
  {
   "cell_type": "code",
   "execution_count": 6,
   "id": "0a2eb2f9",
   "metadata": {},
   "outputs": [
    {
     "name": "stdout",
     "output_type": "stream",
     "text": [
      "Enter The Text : hello hello bro bro i am siva siva siva\n",
      "Most Frequent Word :  siva\n",
      "Frequency :  3\n"
     ]
    }
   ],
   "source": [
    "#Find repeating word in a file\n",
    "a = input(\"Enter The Text : \" )\n",
    "with open('sample.txt','w') as sample:\n",
    "    sample.write(a)\n",
    "\n",
    "file = open('sample.txt','r')\n",
    "freq_w=''\n",
    "frequency = 0 \n",
    "words=[]\n",
    "for line in file:\n",
    "    line_word = line.lower().split()\n",
    "    for w in line_word:\n",
    "        words.append(w)\n",
    "\n",
    "for i in range(0,len(words)):\n",
    "    count = 1\n",
    "    for j in range(i+1,len(words)):\n",
    "        if(words[i]==words[j]):\n",
    "            count=count+1\n",
    "    if count>frequency:\n",
    "        frequency = count\n",
    "        freq_w = words[i]\n",
    "\n",
    "print(\"Most Frequent Word : \",freq_w)\n",
    "print(\"Frequency : \",frequency)\n",
    "file.close()"
   ]
  },
  {
   "cell_type": "code",
   "execution_count": 7,
   "id": "523797e2",
   "metadata": {},
   "outputs": [
    {
     "name": "stdout",
     "output_type": "stream",
     "text": [
      "Tenth Line : \n",
      "This is line 10\n",
      "First Three Lines : \n",
      "['This is line 1\\n', 'This is line 2\\n', 'This is line 3\\n']\n"
     ]
    }
   ],
   "source": [
    "#Read Specific Lines\n",
    "file = open('line.txt','r')\n",
    "content = file.readlines()\n",
    "\n",
    "print(\"Tenth Line : \")\n",
    "print(content[9])\n",
    "\n",
    "print(\"First Three Lines : \")\n",
    "print(content[0:3])"
   ]
  },
  {
   "cell_type": "code",
   "execution_count": 9,
   "id": "162eac94",
   "metadata": {},
   "outputs": [
    {
     "name": "stdout",
     "output_type": "stream",
     "text": [
      "   Unnamed: 0.3  Unnamed: 0.2  Unnamed: 0.1  Unnamed: 0  Sno  \\\n",
      "0             0             0             0           0    1   \n",
      "1             1             1             1           1    2   \n",
      "2             2             2             2           2    3   \n",
      "3             3             3             3           3    4   \n",
      "4             4             4             4           4    5   \n",
      "5             5             5             5           5    6   \n",
      "6             6             6             6           6    7   \n",
      "7             7             7             7           7    8   \n",
      "\n",
      "   Regristation Number                     Name     RollNo Status  \n",
      "0             11913907              Molly Singh  RK19TSA01      P  \n",
      "1             11918698      Vaishnavi choudhary  RK19TSA02      P  \n",
      "2             12000722            Animesh Singh  RK19TSA03      P  \n",
      "3             12003178              Yash Panwar  RK19TSA04      P  \n",
      "4             12005300           Kallem Kruthik  RK19TSA05      P  \n",
      "5             11902981               Siva Vimel  RK19TSA06      P  \n",
      "6             11902825  Bhimavarapu Pavan Reddy  RK19TSA07      P  \n",
      "7             11902721         Mainam Siddhardh  RK19TSA08      P  \n"
     ]
    }
   ],
   "source": [
    "                                   #CSV\n",
    "#To update csv column\n",
    "import pandas as pd\n",
    "df = pd.read_csv('csv1.csv')\n",
    "df.loc[5,'Name'] = 'Siva Vimel'\n",
    "\n",
    "df.to_csv('csv1.csv',index=False)\n",
    "print(df)"
   ]
  },
  {
   "cell_type": "code",
   "execution_count": 16,
   "id": "689ecfe1",
   "metadata": {},
   "outputs": [
    {
     "name": "stdout",
     "output_type": "stream",
     "text": [
      "up 46 minutes\n"
     ]
    }
   ],
   "source": [
    "#OS Startup time\n",
    "import os\n",
    "t = os.popen('uptime -p').read()[:-1]\n",
    "print(t)"
   ]
  },
  {
   "cell_type": "code",
   "execution_count": 17,
   "id": "25d584c8",
   "metadata": {},
   "outputs": [
    {
     "name": "stdout",
     "output_type": "stream",
     "text": [
      "\n"
     ]
    },
    {
     "name": "stderr",
     "output_type": "stream",
     "text": [
      "  File \"/usr/local/bin/wmic\", line 84\n",
      "    print 'CLASS: %s' % classObject.getClassName()\n",
      "    ^^^^^^^^^^^^^^^^^^^^^^^^^^^^^^^^^^^^^^^^^^^^^^\n",
      "SyntaxError: Missing parentheses in call to 'print'. Did you mean print(...)?\n"
     ]
    }
   ],
   "source": [
    "#Get Background running apps\n",
    "import os\n",
    "output = os.popen('wmic process get description,processid').read()\n",
    "print(output)"
   ]
  },
  {
   "cell_type": "code",
   "execution_count": 22,
   "id": "993859c5",
   "metadata": {},
   "outputs": [
    {
     "name": "stdout",
     "output_type": "stream",
     "text": [
      "Modified on : 2023-02-02 21:49:37\n"
     ]
    }
   ],
   "source": [
    "#Modification Time of a file\n",
    "import os\n",
    "import time\n",
    "path = r\"sample.txt\"\n",
    "t_m = os.path.getmtime(path)\n",
    "m_ti = time.ctime(t_m)\n",
    "t_obj = time.strptime(m_ti)\n",
    "T_stmp = time.strftime(\"%Y-%m-%d %H:%M:%S\",t_obj)\n",
    "print(f\"Modified on : {T_stmp}\")"
   ]
  },
  {
   "cell_type": "code",
   "execution_count": 31,
   "id": "b0211b3f",
   "metadata": {},
   "outputs": [
    {
     "name": "stdout",
     "output_type": "stream",
     "text": [
      "Empty Array : \n",
      "[[94573171447042              0   206158430253   193273528370]\n",
      " [  214748364848   210453397588   249108103222   231928234034]\n",
      " [  223338299450   197568495665   206158430258   386547056692]]\n"
     ]
    }
   ],
   "source": [
    "                                 #Empty Array\n",
    "import numpy as np\n",
    "\n",
    "em = np.empty((3,4),dtype=int)\n",
    "print(\"Empty Array : \")\n",
    "print(em)"
   ]
  },
  {
   "cell_type": "code",
   "execution_count": 34,
   "id": "57dd2015",
   "metadata": {},
   "outputs": [
    {
     "name": "stdout",
     "output_type": "stream",
     "text": [
      "Full Array : \n",
      "[[55 55 55]\n",
      " [55 55 55]\n",
      " [55 55 55]]\n"
     ]
    }
   ],
   "source": [
    "                                  #Full Array\n",
    "import numpy as np\n",
    "full = np.full([3,3],55,dtype=int)\n",
    "print(\"Full Array : \")\n",
    "print(full)"
   ]
  },
  {
   "cell_type": "code",
   "execution_count": 35,
   "id": "3548b1e9",
   "metadata": {},
   "outputs": [
    {
     "name": "stdout",
     "output_type": "stream",
     "text": [
      "Given Array : \n",
      "[10 20 30 40 50]\n",
      "Replaced Array : \n",
      "[10  0  0  0  0]\n"
     ]
    }
   ],
   "source": [
    "                              #Replace Element in Array\n",
    "import numpy as np\n",
    "a = np.array([10,20,30,40,50])\n",
    "print(\"Given Array : \")\n",
    "print(a)\n",
    "a[a>10]=0\n",
    "print(\"Replaced Array : \")\n",
    "print(a)"
   ]
  },
  {
   "cell_type": "code",
   "execution_count": 38,
   "id": "6b52e020",
   "metadata": {},
   "outputs": [
    {
     "name": "stdout",
     "output_type": "stream",
     "text": [
      "   Name  Age\n",
      "0  Siva   21\n",
      "1  Papa   21\n",
      "2  Yoyo   12\n",
      "3   Sun  121\n"
     ]
    }
   ],
   "source": [
    "                              #Pandas DataFrame with 2D-List\n",
    "import pandas as pd\n",
    "lst = [['Siva',21],['Papa',21],['Yoyo',12],['Sun',121]]\n",
    "\n",
    "df = pd.DataFrame(lst,columns=[\"Name\",\"Age\"])\n",
    "print(df)"
   ]
  },
  {
   "cell_type": "code",
   "execution_count": 43,
   "id": "1204ecf6",
   "metadata": {},
   "outputs": [
    {
     "name": "stdout",
     "output_type": "stream",
     "text": [
      "Orginal DataFrame\n",
      "   Name  Age\n",
      "0  Siva   21\n",
      "1  Papa   21\n",
      "2  Yoyo   12\n",
      "3   Sun  121\n",
      "Iterrated : \n",
      "Siva 21\n",
      "Papa 21\n",
      "Yoyo 12\n",
      "Sun 121\n"
     ]
    }
   ],
   "source": [
    "                              #Iterate over rows in DataFrame\n",
    "import pandas as pd\n",
    "lst = [['Siva',21],['Papa',21],['Yoyo',12],['Sun',121]]\n",
    "\n",
    "df = pd.DataFrame(lst,columns=[\"Name\",\"Age\"])\n",
    "print(\"Orginal DataFrame\")\n",
    "print(df)\n",
    "\n",
    "print(\"Iterrated : \")\n",
    "for index,row in df.iterrows():\n",
    "    print(row['Name'],row['Age'])"
   ]
  },
  {
   "cell_type": "code",
   "execution_count": 46,
   "id": "9bd96345",
   "metadata": {},
   "outputs": [
    {
     "name": "stdout",
     "output_type": "stream",
     "text": [
      "1001    a\n",
      "1002    b\n",
      "1003    c\n",
      "1004    d\n",
      "dtype: object\n"
     ]
    }
   ],
   "source": [
    "                                    #Series From Array\n",
    "import pandas as pd\n",
    "import numpy as np\n",
    "\n",
    "a = np.array(['a','b','c','d'])\n",
    "\n",
    "df = pd.Series(a,index=[1001,1002,1003,1004])\n",
    "print(df)"
   ]
  },
  {
   "cell_type": "code",
   "execution_count": 57,
   "id": "f6712b84",
   "metadata": {},
   "outputs": [
    {
     "name": "stdout",
     "output_type": "stream",
     "text": [
      "                 Date  Data\n",
      "0 2019-01-01 00:00:00    79\n",
      "1 2019-01-01 00:01:00    76\n",
      "2 2019-01-01 00:02:00    57\n",
      "3 2019-01-01 00:03:00    78\n",
      "4 2019-01-01 00:04:00    84\n",
      "5 2019-01-01 00:05:00    94\n",
      "6 2019-01-01 00:06:00     6\n",
      "7 2019-01-01 00:07:00    74\n",
      "8 2019-01-01 00:08:00    48\n",
      "9 2019-01-01 00:09:00    91\n"
     ]
    }
   ],
   "source": [
    "                                    #Time-Series Manipulation\n",
    "import pandas as pd\n",
    "import numpy as np\n",
    "\n",
    "range1 = pd.date_range(start='1/1/2019',end='1/08/2019',freq='Min')\n",
    "df = pd.DataFrame(range1,columns = ['Date'])\n",
    "\n",
    "df['Data'] = np.random.randint(0,100,size=(len(range1)))\n",
    "print(df.head(10))"
   ]
  },
  {
   "cell_type": "code",
   "execution_count": null,
   "id": "0a5808c5",
   "metadata": {},
   "outputs": [],
   "source": [
    "                                          #TKinter"
   ]
  },
  {
   "cell_type": "code",
   "execution_count": 9,
   "id": "881e2e3c",
   "metadata": {},
   "outputs": [],
   "source": [
    "#GUI Marksheet\n",
    "\n",
    "import tkinter as tk\n",
    "master = tk.Tk()\n",
    "master.title(\"MARKSHEET\")\n",
    "#master.config(bg=\"black\")\n",
    "master.geometry(\"700x250\")\n",
    "\n",
    "e1 = tk.Entry(master)\n",
    "e2 = tk.Entry(master)\n",
    "e3 = tk.Entry(master)\n",
    "e4 = tk.Entry(master)\n",
    "e5 = tk.Entry(master)\n",
    "e6 = tk.Entry(master)\n",
    "e7 = tk.Entry(master)\n",
    "\n",
    "def display():\n",
    "    total = 0\n",
    "    if e4.get() == 'A':\n",
    "        tk.Label(master,text=\"40\").grid(row=3,column=4)\n",
    "        total += 40\n",
    "    if e4.get() == 'B':\n",
    "        tk.Label(master,text=\"36\").grid(row=3,column=4)\n",
    "        total+=36\n",
    "    if e5.get() == 'A':\n",
    "        tk.Label(master,text=\"40\").grid(row=4,column=4)\n",
    "        total+=40\n",
    "    if e5.get() == 'B':\n",
    "        tk.Label(master,text=\"36\").grid(row=4,column=4)\n",
    "        total+=36\n",
    "    if e6.get() == 'A':\n",
    "        tk.Label(master,text=\"40\").grid(row=5,column=4)\n",
    "        total+=40\n",
    "    if e6.get() == 'B':\n",
    "        tk.Label(master,text=\"36\").grid(row=5,column=4)\n",
    "        total+=36\n",
    "    if e7.get() == 'A':\n",
    "        tk.Label(master,text=\"40\").grid(row=6,column=4)\n",
    "        total+=40\n",
    "    if e7.get() == 'B':\n",
    "        tk.Label(master,text=\"36\").grid(row=6,column=4)\n",
    "        total +=36\n",
    "    tk.Label(master,text=str(total)).grid(row=7,column=4)\n",
    "    tk.Label(master,text=str(total/15)).grid(row=8,column=4)\n",
    "\n",
    "tk.Label(master,text=\"Name\").grid(row=0,column=0)\n",
    "tk.Label(master,text=\"Reg.No\").grid(row=0,column=3)\n",
    "tk.Label(master,text=\"Roll.No\").grid(row=1,column=0)\n",
    "\n",
    "tk.Label(master,text=\"Sr.No\").grid(row=2,column=0)\n",
    "tk.Label(master,text=\"1\").grid(row=3,column=0)\n",
    "tk.Label(master,text=\"2\").grid(row=4,column=0)\n",
    "tk.Label(master,text=\"3\").grid(row=5,column=0)\n",
    "tk.Label(master,text=\"4\").grid(row=6,column=0)\n",
    "\n",
    "tk.Label(master,text=\"Subject\").grid(row=2,column=1)\n",
    "tk.Label(master,text=\"CS 201\").grid(row=3,column=1)\n",
    "tk.Label(master,text=\"CS 202\").grid(row=4,column=1)\n",
    "tk.Label(master,text=\"MA 201\").grid(row=5,column=1)\n",
    "tk.Label(master,text=\"EC 201\").grid(row=6,column=1)\n",
    "\n",
    "tk.Label(master,text=\"Grade\").grid(row=2,column=2)\n",
    "e4.grid(row=3,column=2)\n",
    "e5.grid(row=4,column=2)\n",
    "e6.grid(row=5,column=2)\n",
    "e7.grid(row=6,column=2)\n",
    "\n",
    "tk.Label(master,text=\"Credit Obtained\").grid(row=2,column=3)\n",
    "tk.Label(master,text=\"4\").grid(row=3,column=3)\n",
    "tk.Label(master,text=\"4\").grid(row=4,column=3)\n",
    "tk.Label(master,text=\"3\").grid(row=5,column=3)\n",
    "tk.Label(master,text=\"4\").grid(row=6,column=3)\n",
    "\n",
    "e1.grid(row=0,column=1)\n",
    "e2.grid(row=0,column=4)\n",
    "e3.grid(row=1,column=1)\n",
    "\n",
    "button1 = tk.Button(master,text=\"Submit\",bg=\"green\",command=display)\n",
    "button1.grid(row=8,column=1)\n",
    "\n",
    "tk.Label(master,text=\"Total Credit\").grid(row=7,column=3)\n",
    "tk.Label(master,text=\"SGPA\").grid(row=8,column=3)\n",
    "\n",
    "master.mainloop()\n"
   ]
  },
  {
   "cell_type": "code",
   "execution_count": 14,
   "id": "8d08b93c",
   "metadata": {},
   "outputs": [
    {
     "name": "stdout",
     "output_type": "stream",
     "text": [
      "['Python is a high-level, general-purpose and a very popular programming language. Python programming language (latest Python 3) is being used in web development, Machine Learning applications, along with all cutting edge technology in Software Industry. Python Programming Language is very well suited for Beginners, also for experienced programmers with other programming languages like C++ and Java.This specially designed Python tutorial will help you learn Python Programming Language in most efficient way, with the topics from basics to advanced (like Web-scraping, Django, Deep-Learning, etc.) with examples.Below are some facts about Python Programming Language:Recent Articles on Python !Python Programming ExamplesPython Output & Multiple Choice Questions\\xa0Basics, Input/Output, Data Types, Variables, Operators, Control Flow, Functions, Object Oriented Concepts, Exception Handling, Python Collections, Django Framework, Data Analysis, Numpy, Pandas, Machine Learning with Python, Python GUI, Modules in Python, Working with Database, Misc, Applications and Projects, Multiple Choice Questions']\n"
     ]
    }
   ],
   "source": [
    "                                       #BeautifulSoup\n",
    "#Geting content from webpage\n",
    "import urllib.request\n",
    "from bs4 import BeautifulSoup\n",
    "\n",
    "urllib.request.urlretrieve(\"https://www.geeksforgeeks.org/python-programming-language/\", \"/home/anonimouz/text_file.txt\")\n",
    "\n",
    "file = open('text_file.txt','r')\n",
    "content = file.read()\n",
    "soup=BeautifulSoup(content,'html.parser')\n",
    "\n",
    "f = open('test1.txt','w')\n",
    "for data in soup.find_all('p'):\n",
    "    sum = data.get_text()\n",
    "    f.writelines(sum)\n",
    "    \n",
    "f.close()\n",
    "\n",
    "text = open('test1.txt','r')\n",
    "contents = text.readlines()\n",
    "print(contents)\n"
   ]
  },
  {
   "cell_type": "code",
   "execution_count": 22,
   "id": "ffd8181c",
   "metadata": {},
   "outputs": [
    {
     "name": "stdout",
     "output_type": "stream",
     "text": [
      "Found\n"
     ]
    }
   ],
   "source": [
    "#checking url status\n",
    "from urllib.request import urlopen\n",
    "from urllib.error import *\n",
    "\n",
    "try:\n",
    "    html = urlopen(\"https://www.geeksforgeeks.org/python-programming-language/\")\n",
    "except HTTPError as e:\n",
    "    print(\"HTTP Error\",e)\n",
    "except URLError as e:\n",
    "    print(\"URL Error\",e)\n",
    "else:\n",
    "    print(\"Found\")"
   ]
  },
  {
   "cell_type": "code",
   "execution_count": 27,
   "id": "3fc5bb93",
   "metadata": {},
   "outputs": [
    {
     "data": {
      "text/plain": [
       "'Python is a high-level, general-purpose programming language. Its design philosophy emphasizes code readability with the use of significant indentation.Python is dynamically typed and garbage-collected. It supports multiple programming paradigms, including structured (particularly procedural), object-oriented and functional programming. It is often described as a \"batteries included\" language due to its comprehensive standard library.Guido van Rossum began working on Python in the late 1980s as a successor to the ABC programming language and first released it in 1991 as Python 0.9.0. Python 2.0 was released in 2000. Python 3.0, released in 2008, was a major revision not completely backward-compatible with earlier versions. Python 2.7.18, released in 2020, was the last release of Python 2.Python consistently ranks as one of the most popular programming languages.'"
      ]
     },
     "execution_count": 27,
     "metadata": {},
     "output_type": "execute_result"
    }
   ],
   "source": [
    "                                          #Wikipedia\n",
    "#get summary of content\n",
    "import wikipedia\n",
    "wikipedia.summary('Python (programming language)')"
   ]
  },
  {
   "cell_type": "code",
   "execution_count": 30,
   "id": "444fdeba",
   "metadata": {},
   "outputs": [
    {
     "data": {
      "text/plain": [
       "'Python is a high-level, general-purpose programming language. Its design philosophy emphasizes code readability with the use of significant indentation.Python is dynamically typed and garbage-collected. It supports multiple programming paradigms, including structured (particularly procedural), object-oriented and functional programming. It is often described as a \"batteries included\" language due to its comprehensive standard library.Guido van Rossum began working on Python in the late 1980s as a successor to the ABC programming language and first released it in 1991 as Python 0.9.0. Python 2.0 was released in 2000. Python 3.0, released in 2008, was a major revision not completely backward-compatible with earlier versions. Python 2.7.18, released in 2020, was the last release of Python 2.Python consistently ranks as one of the most popular programming languages.\\n\\n\\n== History ==\\n\\nPython was conceived in the late 1980s by Guido van Rossum at Centrum Wiskunde & Informatica (CWI) in the Netherlands as a successor to the ABC programming language, which was inspired by SETL, capable of exception handling and interfacing with the Amoeba operating system. Its implementation began in December 1989. Van Rossum shouldered sole responsibility for the project, as the lead developer, until 12 July 2018, when he announced his \"permanent vacation\" from his responsibilities as Python\\'s \"benevolent dictator for life\", a title the Python community bestowed upon him to reflect his long-term commitment as the project\\'s chief decision-maker. In January 2019, active Python core developers elected a five-member Steering Council to lead the project.Python 2.0 was released on 16 October 2000, with many major new features such as list comprehensions, cycle-detecting garbage collection, reference counting, and Unicode support. Python 3.0, released on 3 December 2008, with many of its major features backported to Python 2.6.x and 2.7.x. Releases of Python 3 include the 2to3 utility, which automates the translation of Python 2 code to Python 3.Python 2.7\\'s end-of-life was initially set for 2015, then postponed to 2020 out of concern that a large body of existing code could not easily be forward-ported to Python 3.  No further security patches or other improvements will be released for it. Currently only 3.7 and later are supported. In 2021, Python 3.9.2 and 3.8.8 were expedited as all versions of Python (including 2.7) had security issues leading to possible remote code execution and web cache poisoning.In 2022, Python 3.10.4 and 3.9.12 were expedited and 3.8.13, and 3.7.13, because of many security issues. When Python 3.9.13 was released in May 2022, it was announced that the 3.9 series (joining the older series 3.8 and 3.7) would only receive security fixes in the future. On September 7, 2022, four new releases were made due to a potential denial-of-service attack: 3.10.7, 3.9.14, 3.8.14, and 3.7.14.As of November 2022, Python 3.11.0 is the current stable release. Notable changes from 3.10 include increased program execution speed and improved error reporting.\\n\\n\\n== Design philosophy and features ==\\nPython is a multi-paradigm programming language. Object-oriented programming and structured programming are fully supported, and many of their features support functional programming and aspect-oriented programming (including metaprogramming and metaobjects). Many other paradigms are supported via extensions, including design by contract and logic programming.Python uses dynamic typing and a combination of reference counting and a cycle-detecting garbage collector for memory management. It uses dynamic name resolution (late binding), which binds method and variable names during program execution.\\nIts design offers some support for functional programming in the Lisp tradition. It has filter,mapandreduce functions; list comprehensions, dictionaries, sets, and generator expressions. The standard library has two modules (itertools and functools) that implement functional tools borrowed from Haskell and Standard ML.Its core philosophy is summarized in the document The Zen of Python (PEP 20), which includes aphorisms such as:\\nBeautiful is better than ugly.\\nExplicit is better than implicit.\\nSimple is better than complex.\\nComplex is better than complicated.\\nReadability counts.Rather than building all of its functionality into its core, Python was designed to be highly extensible via modules. This compact modularity has made it particularly popular as a means of adding programmable interfaces to existing applications. Van Rossum\\'s vision of a small core language with a large standard library and easily extensible interpreter stemmed from his frustrations with ABC, which espoused the opposite approach.Python strives for a simpler, less-cluttered syntax and grammar while giving developers a choice in their coding methodology. In contrast to Perl\\'s \"there is more than one way to do it\" motto, Python embraces a \"there should be one—and preferably only one—obvious way to do it\"  philosophy. Alex Martelli, a Fellow at the Python Software Foundation and Python book author, wrote: \"To describe something as \\'clever\\' is not considered a compliment in the Python culture.\"Python\\'s developers strive to avoid premature optimization and reject patches to non-critical parts of the CPython reference implementation that would offer marginal increases in speed at the cost of clarity. When speed is important, a Python programmer can move time-critical functions to extension modules written in languages such as C; or use PyPy, a just-in-time compiler. Cython is also available, which translates a Python script into C and makes direct C-level API calls into the Python interpreter.\\nPython\\'s developers aim for it to be fun to use. This is reflected in its name—a tribute to the British comedy group Monty Python—and in occasionally playful approaches to tutorials and reference materials, such as the use of the terms \"spam\" and \"eggs\" (a reference to a Monty Python sketch) in examples, instead of the often-used \"foo\" and \"bar\".A common neologism in the Python community is pythonic, which has a wide range of meanings related to program style. \"Pythonic\" code may use Python idioms well, be natural or show fluency in the language, or conform with Python\\'s minimalist philosophy and emphasis on readability. Code that is difficult to understand or reads like a rough transcription from another programming language is called unpythonic.\\n\\n\\n== Syntax and semantics ==\\n\\nPython is meant to be an easily readable language. Its formatting is visually uncluttered and often uses English keywords where other languages use punctuation. Unlike many other languages, it does not use curly brackets to delimit blocks, and semicolons after statements are allowed but rarely used. It has fewer syntactic exceptions and special cases than C or Pascal.\\n\\n\\n=== Indentation ===\\n\\nPython uses whitespace indentation, rather than curly brackets or keywords, to delimit blocks. An increase in indentation comes after certain statements; a decrease in indentation signifies the end of the current block. Thus, the program\\'s visual structure accurately represents its semantic structure. This feature is sometimes termed the off-side rule. Some other languages use indentation this way; but in most, indentation has no semantic meaning. The recommended indent size is four spaces.\\n\\n\\n=== Statements and control flow ===\\nPython\\'s statements include:\\n\\nThe assignment statement, using a single equals sign =\\nThe if statement, which conditionally executes a block of code, along with else and elif (a contraction of else-if)\\nThe for statement, which iterates over an iterable object, capturing each element to a local variable for use by the attached block\\nThe while statement, which executes a block of code as long as its condition is true\\nThe try statement, which allows exceptions raised in its attached code block to be caught and handled by except clauses (or new syntax except* in Python 3.11 for exception groups); it also ensures that clean-up code in a finally block is always run regardless of how the block exits\\nThe raise statement, used to raise a specified exception or re-raise a caught exception\\nThe class statement, which executes a block of code and attaches its local namespace to a class, for use in object-oriented programming\\nThe def statement, which defines a function or method\\nThe with statement, which encloses a code block within a context manager (for example, acquiring a lock before it is run, then releasing the lock; or opening and closing a file), allowing resource-acquisition-is-initialization (RAII)-like behavior and replacing a common try/finally idiom\\nThe break statement, which exits a loop\\nThe continue statement, which skips the rest of the current iteration and continues with the next\\nThe del statement, which removes a variable—deleting the reference from the name to the value, and producing an error if the variable is referred to before it is redefined\\nThe pass statement, serving as a NOP, syntactically needed to create an empty code block\\nThe assert statement, used in debugging to check for conditions that should apply\\nThe yield statement, which returns a value from a generator function (and also an operator); used to implement coroutines\\nThe return statement, used to return a value from a function\\nThe import and from statements, used to import modules whose functions or variables can be used in the current programThe assignment statement (=) binds a name as a reference to a separate, dynamically allocated object. Variables may subsequently be rebound at any time to any object. In Python, a variable name is a generic reference holder without a fixed data type; however, it always refers to some object with a type. This is called dynamic typing—in contrast to statically-typed languages, where each variable may contain only a value of a certain type.\\nPython does not support tail call optimization or first-class continuations, and, according to Van Rossum, it never will. However, better support for coroutine-like functionality is provided by extending Python\\'s generators. Before 2.5, generators were lazy iterators; data was passed unidirectionally out of the generator. From Python 2.5 on, it is possible to pass data back into a generator function; and from version 3.3, it can be passed through multiple stack levels.\\n\\n\\n=== Expressions ===\\nPython\\'s expressions include:\\n\\nThe +, -, and * operators for mathematical addition, subtraction, and multiplication are similar to other languages, but the behavior of division differs. There are two types of divisions in Python: floor division (or integer division) // and floating-point/division. Python uses the ** operator for exponentiation.\\nPython uses the + operator for string concatenation. Python uses the * operator for duplicating a string a specified number of times.\\nThe @ infix operator. It is intended to be used by libraries such as NumPy for matrix multiplication.\\nThe syntax :=, called the \"walrus operator\", was introduced in Python 3.8. It assigns values to variables as part of a larger expression.\\nIn Python, == compares by value. Python\\'s is operator may be used to compare object identities (comparison by reference), and comparisons may be chained—for example, a <= b <= c.\\nPython uses and, or, and not as boolean operators.\\nPython has a type of expression called a list comprehension, as well as a more general expression called a generator expression.\\nAnonymous functions are implemented using lambda expressions; however, there may be only one expression in each body.\\nConditional expressions are written as x if c else y (different in order of operands from the c ? x : y operator common to many other languages).\\nPython makes a distinction between lists and tuples. Lists are written as [1, 2, 3], are mutable, and cannot be used as the keys of dictionaries (dictionary keys must be immutable in Python). Tuples, written as (1, 2, 3), are immutable and thus can be used as keys of dictionaries, provided all of the tuple\\'s elements are immutable. The + operator can be used to concatenate two tuples, which does not directly modify their contents, but produces a new tuple containing the elements of both. Thus, given the variable t initially equal to (1, 2, 3), executing t = t + (4, 5) first evaluates t + (4, 5), which yields (1, 2, 3, 4, 5), which is then assigned back to t—thereby effectively \"modifying the contents\" of t while conforming to the immutable nature of tuple objects. Parentheses are optional for tuples in unambiguous contexts.\\nPython features sequence unpacking where multiple expressions, each evaluating to anything that can be assigned (to a variable, writable property, etc.) are associated in an identical manner to that forming tuple literals—and, as a whole, are put on the left-hand side of the equal sign in an assignment statement. The statement expects an iterable object on the right-hand side of the equal sign that produces the same number of values as the provided writable expressions; when iterated through them, it assigns each of the produced values to the corresponding expression on the left.\\nPython has a \"string format\" operator % that functions analogously to printf format strings in C—e.g. \"spam=%s eggs=%d\" % (\"blah\", 2) evaluates to \"spam=blah eggs=2\". In Python 2.6+ and 3+, this was supplemented by the format() method of the str class, e.g. \"spam={0} eggs={1}\".format(\"blah\", 2). Python 3.6 added \"f-strings\": spam = \"blah\"; eggs = 2; f\\'spam={spam} eggs={eggs}\\'.\\nStrings in Python can be concatenated by \"adding\" them (with the same operator as for adding integers and floats), e.g. \"spam\" + \"eggs\" returns \"spameggs\". If strings contain numbers, they are added as strings rather than integers, e.g. \"2\" + \"2\" returns \"22\".\\nPython has various string literals:\\nDelimited by single or double quote marks; unlike in Unix shells, Perl, and Perl-influenced languages, single and double quote marks work the same. Both use the backslash (\\\\) as an escape character. String interpolation became available in Python 3.6 as \"formatted string literals\".\\nTriple-quoted (beginning and ending with three single or double quote marks), which may span multiple lines and function like here documents in shells, Perl, and Ruby.\\nRaw string varieties, denoted by prefixing the string literal with r. Escape sequences are not interpreted; hence raw strings are useful where literal backslashes are common, such as regular expressions and Windows-style paths. (Compare \"@-quoting\" in C#.)\\nPython has array index and array slicing expressions in lists, denoted as a[key], a[start:stop] or a[start:stop:step]. Indexes are zero-based, and negative indexes are relative to the end. Slices take elements from the start index up to, but not including, the stop index. The third slice parameter called step or stride, allows elements to be skipped and reversed. Slice indexes may be omitted—for example, a[:] returns a copy of the entire list. Each element of a slice is a shallow copy.In Python, a distinction between expressions and statements is rigidly enforced, in contrast to languages such as Common Lisp, Scheme, or Ruby. This leads to duplicating some functionality. For example:\\n\\nList comprehensions vs. for-loops\\nConditional expressions vs. if blocks\\nThe eval() vs. exec() built-in functions (in Python 2, exec is a statement); the former is for expressions, the latter is for statementsStatements cannot be a part of an expression—so list and other comprehensions or lambda expressions, all being expressions, cannot contain statements. A particular case is that an assignment statement such as a = 1 cannot form part of the conditional expression of a conditional statement. This has the advantage of avoiding a classic C error of mistaking an assignment operator = for an equality operator == in conditions: if (c = 1) { ... } is syntactically valid (but probably unintended) C code, but if c = 1: ... causes a syntax error in Python.\\n\\n\\n=== Methods ===\\nMethods on objects are functions attached to the object\\'s class; the syntax instance.method(argument) is, for normal methods and functions, syntactic sugar for Class.method(instance, argument). Python methods have an explicit self parameter to access instance data, in contrast to the implicit self (or this) in some other object-oriented programming languages (e.g., C++, Java, Objective-C, Ruby). Python also provides methods, often called dunder methods (due to their names beginning and ending with double-underscores), to allow user-defined classes to modify how they are handled by native operations including length, comparison, in arithmetic operations and type conversion.\\n\\n\\n=== Typing ===\\n\\nPython uses duck typing and has typed objects but untyped variable names. Type constraints are not checked at compile time; rather, operations on an object may fail, signifying that it is not of a suitable type. Despite being dynamically typed, Python is strongly typed, forbidding operations that are not well-defined (for example, adding a number to a string) rather than silently attempting to make sense of them.\\nPython allows programmers to define their own types using classes, most often used for object-oriented programming. New instances of classes are constructed by calling the class (for example, SpamClass() or EggsClass()), and the classes are instances of the metaclass type (itself an instance of itself), allowing metaprogramming and reflection.\\nBefore version 3.0, Python had two kinds of classes (both using the same syntax): old-style and new-style, current Python versions only support the semantics new style.\\nPython supports gradual typing. Python\\'s syntax allows specifying static types, but they are not checked in the default implementation, CPython. An experimental optional static type-checker, mypy, supports compile-time type checking.\\n\\n\\n=== Arithmetic operations ===\\nPython has the usual symbols for arithmetic operators (+, -, *, /), the floor division operator // and the modulo operation % (where the remainder can be negative,  e.g. 4 % -3 == -2). It also has ** for exponentiation, e.g. 5**3 == 125 and 9**0.5 == 3.0, and a matrix‑multiplication operator @ . These operators work like in traditional math; with the same precedence rules, the operators infix (+ and - can also be unary to represent positive and negative numbers respectively).\\nThe division between integers produces floating-point results. The behavior of division has changed significantly over time:\\nCurrent Python (i.e. since 3.0) changed / to always be floating-point division, e.g. 5/2 == 2.5.\\nThe floor division // operator was introduced. So 7//3 == 2, -7//3 == -3, 7.5//3 == 2.0 and -7.5//3 == -3.0. Adding from __future__ import division causes a module used in Python 2.7 to use Python 3.0 rules for division (see above).In Python terms, / is true division (or simply division), and // is floor division. / before version 3.0 is classic division.Rounding towards negative infinity, though different from most languages, adds consistency. For instance, it means that the equation (a + b)//b == a//b + 1 is always true. It also means that the equation b*(a//b) + a%b == a is valid for both positive and negative values of a. However, maintaining the validity of this equation means that while the result of a%b is, as expected, in the half-open interval [0, b), where b is a positive integer, it has to lie in the interval (b, 0] when b is negative.Python provides a round function for rounding a float to the nearest integer. For tie-breaking, Python 3 uses round to even: round(1.5) and round(2.5) both produce 2. Versions before 3 used round-away-from-zero: round(0.5) is 1.0, round(-0.5) is −1.0.Python allows boolean expressions with multiple equality relations in a manner that is consistent with general use in mathematics. For example, the expression a < b < c tests whether a is less than b and b is less than c. C-derived languages interpret this expression differently: in C, the expression would first evaluate a < b, resulting in 0 or 1, and that result would then be compared with c.Python uses arbitrary-precision arithmetic for all integer operations. The Decimal type/class in the decimal module provides decimal floating-point numbers to a pre-defined arbitrary precision and several rounding modes. The Fraction class in the fractions module provides arbitrary precision for rational numbers.Due to Python\\'s extensive mathematics library, and the third-party library NumPy that further extends the native capabilities, it is frequently used as a scientific scripting language to aid in problems such as numerical data processing and manipulation.\\n\\n\\n== Programming examples ==\\nHello world program:\\n\\nProgram to calculate the factorial of a positive integer:\\n\\n\\n== Libraries ==\\nPython\\'s large standard library provides tools suited to many tasks and is commonly cited as one of its greatest strengths. For Internet-facing applications, many standard formats and protocols such as MIME and HTTP are supported. It includes modules for creating graphical user interfaces, connecting to relational databases, generating pseudorandom numbers, arithmetic with arbitrary-precision decimals, manipulating regular expressions, and unit testing.\\nSome parts of the standard library are covered by specifications—for example, the Web Server Gateway Interface (WSGI) implementation wsgiref follows PEP 333—but most are specified by their code, internal documentation, and test suites. However, because most of the standard library is cross-platform Python code, only a few modules need altering or rewriting for variant implementations.\\nAs of 14 November 2022, the Python Package Index (PyPI), the official repository for third-party Python software, contains over 415,000 packages with a wide range of functionality, including:\\n\\n\\n== Development environments ==\\n\\nMost Python implementations (including CPython) include a read–eval–print loop (REPL), permitting them to function as a command line interpreter for which users enter statements sequentially and receive results immediately.\\nPython also comes with an Integrated development environment (IDE) called IDLE, which is more beginner-oriented.\\nOther shells, including IDLE and IPython, add further abilities such as improved auto-completion, session state retention, and syntax highlighting.\\nAs well as standard desktop integrated development environments, there are Web browser-based IDEs, including SageMath, for developing science- and math-related programs; PythonAnywhere, a browser-based IDE and hosting environment; and Canopy IDE, a commercial IDE emphasizing scientific computing.\\n\\n\\n== Implementations ==\\n\\n\\n=== Reference implementation ===\\nCPython is the reference implementation of Python. It is written in C, meeting the C89 standard (Python 3.11 uses C11) with several select C99 features (With later C versions out, it is considered outdated.  CPython includes its own C extensions, but third-party extensions are not limited to older C versions—e.g. they can be implemented with C11 or C++.) It compiles Python programs into an intermediate bytecode which is then executed by its virtual machine. CPython is distributed with a large standard library written in a mixture of C and native Python, and is available for many platforms, including Windows (starting with Python 3.9, the Python installer deliberately fails to install on Windows 7 and 8; Windows XP was supported until Python 3.5) and most modern Unix-like systems, including macOS (and Apple M1 Macs, since Python 3.9.1, with experimental installer) and unofficial support for e.g. VMS. Platform portability was one of its earliest priorities. (During Python 1 and 2 development, even OS/2 and Solaris were supported, but support has since been dropped for many platforms.)\\n\\n\\n=== Other implementations ===\\nPyPy is a fast, compliant interpreter of Python 2.7 and 3.8. Its just-in-time compiler often brings a significant speed improvement over CPython but some libraries written in C cannot be used with it.\\nStackless Python is a significant fork of CPython that implements microthreads; it does not use the call stack in the same way, thus allowing massively concurrent programs. PyPy also has a stackless version.\\nMicroPython and CircuitPython are Python 3 variants optimized for microcontrollers, including Lego Mindstorms EV3.\\nPyston is a variant of the Python runtime that uses just-in-time compilation to speed up the execution of Python programs.\\nCinder is a performance-oriented fork of CPython 3.8 that contains a number of optimizations including bytecode inline caching, eager evaluation of coroutines, a method-at-a-time JIT, and an experimental bytecode compiler.\\n\\n\\n=== Unsupported implementations ===\\nOther just-in-time Python compilers have been developed, but are now unsupported:\\n\\nGoogle began a project named Unladen Swallow in 2009, with the aim of speeding up the Python interpreter fivefold by using the LLVM, and of improving its multithreading ability to scale to thousands of cores, while ordinary implementations suffer from the global interpreter lock.\\nPsyco is a discontinued just-in-time specializing compiler that integrates with CPython and transforms bytecode to machine code at runtime. The emitted code is specialized for certain data types and is faster than the standard Python code. Psyco does not support Python 2.7 or later.\\nPyS60 was a Python 2 interpreter for Series 60 mobile phones released by Nokia in 2005. It implemented many of the modules from the standard library and some additional modules for integrating with the Symbian operating system. The Nokia N900 also supports Python with GTK widget libraries, enabling programs to be written and run on the target device.\\n\\n\\n=== Cross-compilers to other languages ===\\nThere are several compilers to high-level object languages, with either unrestricted Python, a restricted subset of Python, or a language similar to Python as the source language:\\n\\nBrython, Transcrypt and Pyjs (latest release in 2012) compile Python to JavaScript.\\nCython compiles (a superset of) Python  to C (while the resulting code is also usable with Python and also e.g. C++).\\nNuitka compiles Python into C.\\nNumba uses LLVM to compile a subset of Python to machine code.\\nPythran compiles a subset of Python 3 to C++ (C++11).\\nRPython can be compiled to C, and is used to build the PyPy interpreter of Python.\\nThe Python → 11l → C++ transpiler compiles a subset of Python 3 to C++ (C++17).Specialized:\\n\\nMyHDL is a Python-based hardware description language (HDL), that converts MyHDL code to Verilog or VHDL code.Older projects (or not to be used with Python 3.x and latest syntax):\\n\\nGoogle\\'s Grumpy (latest release in 2017) transpiles Python 2 to Go.\\nIronPython  allows running Python 2.7 programs (and an alpha, released in 2021, is also available for \"Python 3.4, although features and behaviors from later versions may be included\") on the .NET Common Language Runtime.\\nJython compiles Python 2.7 to Java bytecode, allowing the use of the Java libraries from a Python program.\\nPyrex (latest release in 2010) and Shed Skin (latest release in 2013) compile to C and C++ respectively.\\n\\n\\n=== Performance ===\\nPerformance comparison of various Python implementations on a non-numerical (combinatorial) workload was presented at EuroSciPy \\'13. Python\\'s performance compared to other programming languages is also benchmarked by The Computer Language Benchmarks Game.\\n\\n\\n== Development ==\\nPython\\'s development is conducted largely through the Python Enhancement Proposal (PEP) process, the primary mechanism for proposing major new features, collecting community input on issues, and documenting Python design decisions. Python coding style is covered in PEP 8. Outstanding PEPs are reviewed and commented on by the Python community and the steering council.Enhancement of the language corresponds with the development of the CPython reference implementation. The mailing list python-dev is the primary forum for the language\\'s development. Specific issues were originally discussed in the Roundup bug tracker hosted at by the foundation. In 2022, all issues and discussions were migrated to GitHub. Development originally took place on a self-hosted source-code repository running Mercurial, until Python moved to GitHub in January 2017.CPython\\'s public releases come in three types, distinguished by which part of the version number is incremented:\\n\\nBackward-incompatible versions, where code is expected to break and needs to be manually ported. The first part of the version number is incremented. These releases happen infrequently—version 3.0 was released 8 years after 2.0. According to Guido van Rossum, a version 4.0 is very unlikely to ever happen.\\nMajor or \"feature\" releases are largely compatible with the previous version but introduce new features. The second part of the version number is incremented. Starting with Python 3.9, these releases are expected to happen annually. Each major version is supported by bug fixes for several years after its release.\\nBugfix releases, which introduce no new features, occur about every 3 months and are made when a sufficient number of bugs have been fixed upstream since the last release. Security vulnerabilities are also patched in these releases. The third and final part of the version number is incremented.Many alpha, beta, and release-candidates are also released as previews and for testing before final releases. Although there is a rough schedule for each release, they are often delayed if the code is not ready. Python\\'s development team monitors the state of the code by running the large unit test suite during development.The major academic conference on Python is PyCon. There are also special Python mentoring programs, such as Pyladies.\\nPython 3.10 deprecated wstr (to be removed in Python 3.12; meaning Python extensions need to be modified by then), and added pattern matching to the language.\\n\\n\\n== API documentation generators ==\\nTools that can generate documentation for Python API include pydoc (available as part of the standard library), Sphinx, Pdoc and its forks, Doxygen and Graphviz, among others.\\n\\n\\n== Naming ==\\nPython\\'s name is derived from the British comedy group Monty Python, whom Python creator Guido van Rossum enjoyed while developing the language. Monty Python references appear frequently in Python code and culture; for example, the metasyntactic variables often used in Python literature are spam and eggs instead of the traditional foo and bar. The official Python documentation also contains various references to Monty Python routines.The prefix Py- is used to show that something is related to Python. Examples of the use of this prefix in names of Python applications or libraries include Pygame, a binding of SDL to Python (commonly used to create games); PyQt and PyGTK, which bind Qt and GTK to Python respectively; and PyPy, a Python implementation originally written in Python.\\n\\n\\n== Popularity ==\\nSince 2003, Python has consistently ranked in the top ten most popular programming languages in the TIOBE Programming Community Index where as of December 2022 it was the most popular language (ahead of C, C++, and Java). It was selected Programming Language of the Year (for \"the highest rise in ratings in a year\") in 2007, 2010, 2018, and 2020 (the only language to have done so four times as of 2020).\\nAn empirical study found that scripting languages, such as Python, are more productive than conventional languages, such as C and Java, for programming problems involving string manipulation and search in a dictionary, and determined that memory consumption was often \"better than Java and not much worse than C or C++\".Large organizations that use Python include Wikipedia, Google, Yahoo!, CERN, NASA, Facebook, Amazon, Instagram, Spotify, and some smaller entities like ILM and ITA. The social news networking site Reddit was written mostly in Python.\\n\\n\\n== Uses ==\\n\\nPython can serve as a scripting language for web applications, e.g., via mod_wsgi for the Apache webserver. With Web Server Gateway Interface, a standard API has evolved to facilitate these applications. Web frameworks like Django, Pylons, Pyramid, TurboGears, web2py, Tornado, Flask, Bottle, and Zope support developers in the design and maintenance of complex applications. Pyjs and IronPython can be used to develop the client-side of Ajax-based applications. SQLAlchemy can be used as a data mapper to a relational database. Twisted is a framework to program communications between computers, and is used (for example) by Dropbox.\\nLibraries such as NumPy, SciPy, and Matplotlib allow the effective use of Python in scientific computing, with specialized libraries such as Biopython and Astropy providing domain-specific functionality. SageMath is a computer algebra system with a notebook interface programmable in Python: its library covers many aspects of mathematics, including algebra, combinatorics, numerical mathematics, number theory, and calculus. OpenCV has Python bindings with a rich set of features for computer vision and image processing.Python is commonly used in artificial intelligence projects and machine learning projects with the help of libraries like TensorFlow, Keras, Pytorch, and scikit-learn. As a scripting language with a modular architecture, simple syntax, and rich text processing tools, Python is often used for natural language processing.Python can also be used to create games, with libraries such as Pygame, which can make 2D games.\\nPython has been successfully embedded in many software products as a scripting language, including in finite element method software such as Abaqus, 3D parametric modelers like FreeCAD, 3D animation packages such as 3ds Max, Blender, Cinema 4D, Lightwave, Houdini, Maya, modo, MotionBuilder, Softimage, the visual effects compositor Nuke, 2D imaging programs like GIMP, Inkscape, Scribus and Paint Shop Pro, and musical notation programs like scorewriter and capella. GNU Debugger uses Python as a pretty printer to show complex structures such as C++ containers. Esri promotes Python as the best choice for writing scripts in ArcGIS. It has also been used in several video games, and has been adopted as first of the three available programming languages in Google App Engine, the other two being Java and Go.Many operating systems include Python as a standard component. It ships with most Linux distributions, AmigaOS 4 (using Python 2.7), FreeBSD (as a package), NetBSD, and OpenBSD (as a package) and can be used from the command line (terminal). Many Linux distributions use installers written in Python: Ubuntu uses the Ubiquity installer, while Red Hat Linux and Fedora Linux use the Anaconda installer. Gentoo Linux uses Python in its package management system, Portage.\\nPython is used extensively in the information security industry, including in exploit development.Most of the Sugar software for the One Laptop per Child XO, developed at Sugar Labs since 2008, is written in Python. The Raspberry Pi single-board computer project has adopted Python as its main user-programming language.\\nLibreOffice includes Python and intends to replace Java with Python. Its Python Scripting Provider is a core feature since Version 4.0 from 7 February 2013.\\n\\n\\n== Languages influenced by Python ==\\nPython\\'s design and philosophy have influenced many other programming languages:\\n\\nBoo uses indentation, a similar syntax, and a similar object model.\\nCobra uses indentation and a similar syntax, and its Acknowledgements document lists Python first among languages that influenced it.\\nCoffeeScript, a programming language that cross-compiles to JavaScript, has Python-inspired syntax.\\nECMAScript/JavaScript borrowed iterators and generators from Python.\\nGDScript, a scripting language very similar to Python, built-in to the Godot game engine.\\nGo is designed for the \"speed of working in a dynamic language like Python\" and shares the same syntax for slicing arrays.\\nGroovy was motivated by the desire to bring the Python design philosophy to Java.\\nJulia was designed to be \"as usable for general programming as Python\".\\nNim uses indentation and similar syntax.\\nRuby\\'s creator, Yukihiro Matsumoto, has said: \"I wanted a scripting language that was more powerful than Perl, and more object-oriented than Python. That\\'s why I decided to design my own language.\"\\nSwift, a programming language developed by Apple, has some Python-inspired syntax.Python\\'s development practices have also been emulated by other languages. For example, the practice of requiring a document describing the rationale for, and issues surrounding, a change to the language (in Python, a PEP) is also used in Tcl, Erlang, and Swift.\\n\\n\\n== See also ==\\nPython syntax and semantics\\npip (package manager)\\nList of programming languages\\nHistory of programming languages\\nComparison of programming languages\\n\\n\\n== References ==\\n\\n\\n=== Sources ===\\n\"Python for Artificial Intelligence\". Wiki.python.org. 19 July 2012. Archived from the original on 1 November 2012. Retrieved 3 December 2012.\\nPaine, Jocelyn, ed. (August 2005). \"AI in Python\". AI Expert Newsletter. Amzi!. Archived from the original on 26 March 2012. Retrieved 11 February 2012.\\n\"PyAIML 0.8.5 : Python Package Index\". Pypi.python.org. Retrieved 17 July 2013.\\nRussell, Stuart J. & Norvig, Peter (2009). Artificial Intelligence: A Modern Approach (3rd ed.). Upper Saddle River, NJ: Prentice Hall. ISBN 978-0-13-604259-4.\\n\\n\\n== Further reading ==\\nDowney, Allen B. (May 2012). Think Python: How to Think Like a Computer Scientist (version 1.6.6 ed.). ISBN 978-0-521-72596-5.\\nHamilton, Naomi (5 August 2008). \"The A-Z of Programming Languages: Python\". Computerworld. Archived from the original on 29 December 2008. Retrieved 31 March 2010.\\nLutz, Mark (2013). Learning Python (5th ed.). O\\'Reilly Media. ISBN 978-0-596-15806-4.\\nSummerfield, Mark (2009). Programming in Python 3 (2nd ed.). Addison-Wesley Professional. ISBN 978-0-321-68056-3.\\nRamalho, Luciano (May 2022). Fluent Python (2nd ed.). O\\'Reilly Media. ISBN 978-1-4920-5632-4.\\n\\n\\n== External links ==\\n\\nOfficial website'"
      ]
     },
     "execution_count": 30,
     "metadata": {},
     "output_type": "execute_result"
    }
   ],
   "source": [
    "#Get page content\n",
    "import wikipedia\n",
    "wikipedia.page('Python (programming language)').content"
   ]
  },
  {
   "cell_type": "code",
   "execution_count": 31,
   "id": "c21b7bbc",
   "metadata": {},
   "outputs": [
    {
     "data": {
      "text/plain": [
       "['https://upload.wikimedia.org/wikipedia/commons/3/31/Free_and_open-source_software_logo_%282009%29.svg',\n",
       " 'https://upload.wikimedia.org/wikipedia/commons/9/94/Guido_van_Rossum_OSCON_2006_cropped.png',\n",
       " 'https://upload.wikimedia.org/wikipedia/commons/6/6f/Octicons-terminal.svg',\n",
       " 'https://upload.wikimedia.org/wikipedia/commons/c/c3/Python-logo-notext.svg',\n",
       " 'https://upload.wikimedia.org/wikipedia/commons/c/c4/Python_3._The_standard_type_hierarchy-en.svg',\n",
       " 'https://upload.wikimedia.org/wikipedia/commons/b/bd/Python_Powered.png',\n",
       " 'https://upload.wikimedia.org/wikipedia/commons/d/df/Wikibooks-logo-en-noslogan.svg',\n",
       " 'https://upload.wikimedia.org/wikipedia/commons/f/fa/Wikibooks-logo.svg',\n",
       " 'https://upload.wikimedia.org/wikipedia/commons/f/ff/Wikidata-logo.svg',\n",
       " 'https://upload.wikimedia.org/wikipedia/commons/f/fa/Wikiquote-logo.svg',\n",
       " 'https://upload.wikimedia.org/wikipedia/commons/0/0b/Wikiversity_logo_2017.svg',\n",
       " 'https://upload.wikimedia.org/wikipedia/en/4/4a/Commons-logo.svg',\n",
       " 'https://upload.wikimedia.org/wikipedia/en/8/8a/OOjs_UI_icon_edit-ltr-progressive.svg',\n",
       " 'https://upload.wikimedia.org/wikipedia/en/1/1b/Semi-protection-shackle.svg',\n",
       " 'https://upload.wikimedia.org/wikipedia/en/9/96/Symbol_category_class.svg',\n",
       " 'https://upload.wikimedia.org/wikipedia/en/d/db/Symbol_list_class.svg',\n",
       " 'https://upload.wikimedia.org/wikipedia/en/e/e2/Symbol_portal_class.svg',\n",
       " 'https://upload.wikimedia.org/wikipedia/en/9/94/Symbol_support_vote.svg']"
      ]
     },
     "execution_count": 31,
     "metadata": {},
     "output_type": "execute_result"
    }
   ],
   "source": [
    "#Extract images from wikipedia\n",
    "import wikipedia\n",
    "wikipedia.page('Python (programming language)').images"
   ]
  },
  {
   "cell_type": "code",
   "execution_count": 32,
   "id": "968188ec",
   "metadata": {},
   "outputs": [
    {
     "data": {
      "text/plain": [
       "'https://en.wikipedia.org/wiki/Helianthus'"
      ]
     },
     "execution_count": 32,
     "metadata": {},
     "output_type": "execute_result"
    }
   ],
   "source": [
    "#Get url of topic\n",
    "import wikipedia\n",
    "wikipedia.page('sunflower').url"
   ]
  },
  {
   "cell_type": "code",
   "execution_count": 33,
   "id": "47650dc7",
   "metadata": {},
   "outputs": [
    {
     "data": {
      "text/plain": [
       "['All articles with unsourced statements',\n",
       " \"Articles with 'species' microformats\",\n",
       " 'Articles with short description',\n",
       " 'Articles with unsourced statements from June 2022',\n",
       " 'Asteraceae genera',\n",
       " 'CS1 maint: others',\n",
       " 'Crops',\n",
       " 'Crops originating from indigenous Americans',\n",
       " 'Flora of North America',\n",
       " 'Helianthus',\n",
       " 'Short description is different from Wikidata',\n",
       " 'Taxa named by Carl Linnaeus',\n",
       " 'Taxonbars with 25–29 taxon IDs',\n",
       " 'Webarchive template wayback links',\n",
       " 'Wikipedia articles needing clarification from October 2022']"
      ]
     },
     "execution_count": 33,
     "metadata": {},
     "output_type": "execute_result"
    }
   ],
   "source": [
    "#List of categories of articles\n",
    "import wikipedia\n",
    "wikipedia.page('sunflower').categories"
   ]
  },
  {
   "cell_type": "code",
   "execution_count": 34,
   "id": "fd9c1703",
   "metadata": {},
   "outputs": [
    {
     "data": {
      "text/plain": [
       "['Agricultural Research Service',\n",
       " 'Alabama',\n",
       " 'Annual plant',\n",
       " 'Anthesis',\n",
       " 'Arizona',\n",
       " 'Arkansas',\n",
       " 'Asteraceae',\n",
       " 'Asterales',\n",
       " 'Asterids',\n",
       " 'Asteroideae',\n",
       " 'Australian Plant Name Index',\n",
       " 'Baja California (state)',\n",
       " 'Baja California Sur',\n",
       " 'Bibcode (identifier)',\n",
       " 'Caducous',\n",
       " 'California',\n",
       " 'Carl Linnaeus',\n",
       " 'Catalogue of Life',\n",
       " 'Central America',\n",
       " 'Chihuahua (state)',\n",
       " 'Chile',\n",
       " 'Coahuila',\n",
       " 'Colorado',\n",
       " 'Common sunflower',\n",
       " 'Connecticut',\n",
       " 'Cultivar',\n",
       " 'Cultivars',\n",
       " 'Doi (identifier)',\n",
       " 'EPPO Code',\n",
       " 'Encyclopedia of Life',\n",
       " 'Endangered',\n",
       " 'Endangered Species Act',\n",
       " 'Endogeny (biology)',\n",
       " 'Eudicots',\n",
       " \"Fermat's spiral\",\n",
       " 'Fibonacci number',\n",
       " 'FloraBase',\n",
       " 'Flora of Australia',\n",
       " 'Flora of China (series)',\n",
       " 'Flora of North America',\n",
       " 'Florets',\n",
       " 'Florida',\n",
       " 'Florivore',\n",
       " 'Flourensia thurifera',\n",
       " 'Flowering plant',\n",
       " 'French Guiana',\n",
       " 'Gahkuch',\n",
       " 'Genus',\n",
       " 'Georgia (U.S. state)',\n",
       " 'Germplasm Resources Information Network',\n",
       " 'Global Biodiversity Information Facility',\n",
       " 'Glossary of leaf morphology',\n",
       " 'Great Lakes',\n",
       " 'Great Plains',\n",
       " 'Harvard University Herbaria',\n",
       " 'Heliantheae',\n",
       " 'Helianthella quinquenervis',\n",
       " 'Helianthella uniflora',\n",
       " 'Helianthinae',\n",
       " \"Helianthus 'Strawberry Blonde'\",\n",
       " 'Helianthus (disambiguation)',\n",
       " 'Helianthus agrestis',\n",
       " 'Helianthus ambiguus',\n",
       " 'Helianthus angustifolius',\n",
       " 'Helianthus annuus',\n",
       " 'Helianthus anomalus',\n",
       " 'Helianthus argophyllus',\n",
       " 'Helianthus arizonensis',\n",
       " 'Helianthus atrorubens',\n",
       " 'Helianthus bolanderi',\n",
       " 'Helianthus californicus',\n",
       " 'Helianthus carnosus',\n",
       " 'Helianthus ciliaris',\n",
       " 'Helianthus cinereus',\n",
       " 'Helianthus coloradensis',\n",
       " 'Helianthus cusickii',\n",
       " 'Helianthus debilis',\n",
       " 'Helianthus decapetalus',\n",
       " 'Helianthus deserticola',\n",
       " 'Helianthus diffusus',\n",
       " 'Helianthus dissectifolius',\n",
       " 'Helianthus divaricatus',\n",
       " 'Helianthus eggertii',\n",
       " 'Helianthus exilis',\n",
       " 'Helianthus floridanus',\n",
       " 'Helianthus giganteus',\n",
       " 'Helianthus glaucophyllus',\n",
       " 'Helianthus gracilentus',\n",
       " 'Helianthus grosseserratus',\n",
       " 'Helianthus heterophyllus',\n",
       " 'Helianthus hirsutus',\n",
       " 'Helianthus laciniatus',\n",
       " 'Helianthus laevigatus',\n",
       " 'Helianthus lenticularis',\n",
       " 'Helianthus longifolius',\n",
       " 'Helianthus maximiliani',\n",
       " 'Helianthus membranifolius',\n",
       " 'Helianthus microcephalus',\n",
       " 'Helianthus mollis',\n",
       " 'Helianthus multiflorus',\n",
       " 'Helianthus navarri',\n",
       " 'Helianthus neglectus',\n",
       " 'Helianthus niveus',\n",
       " 'Helianthus nuttallii',\n",
       " 'Helianthus occidentalis',\n",
       " 'Helianthus paradoxus',\n",
       " 'Helianthus pauciflorus',\n",
       " 'Helianthus petiolaris',\n",
       " 'Helianthus porteri',\n",
       " 'Helianthus praecox',\n",
       " 'Helianthus praetermissus',\n",
       " 'Helianthus pumilus',\n",
       " 'Helianthus radula',\n",
       " 'Helianthus resinosus',\n",
       " 'Helianthus salicifolius',\n",
       " 'Helianthus sarmentosus',\n",
       " 'Helianthus scaberrimus',\n",
       " 'Helianthus schweinitzii',\n",
       " 'Helianthus silphioides',\n",
       " 'Helianthus simulans',\n",
       " 'Helianthus smithii',\n",
       " 'Helianthus speciosus',\n",
       " 'Helianthus strumosus',\n",
       " 'Helianthus subcanescens',\n",
       " 'Helianthus subtuberosus',\n",
       " 'Helianthus tuberosus',\n",
       " 'Helianthus verticillatus',\n",
       " 'Helianthus × brevifolius',\n",
       " 'Helianthus × divariserratus',\n",
       " 'Helianthus × doronicoides',\n",
       " 'Helianthus × glaucus',\n",
       " 'Helianthus × intermedius',\n",
       " 'Helianthus × laetiflorus',\n",
       " 'Helianthus × luxurians',\n",
       " 'Helianthus × orgyaloides',\n",
       " 'Heliopsis',\n",
       " 'Heliotropism',\n",
       " 'Hypocotyl',\n",
       " 'INaturalist',\n",
       " 'ISBN (identifier)',\n",
       " 'ISSN (identifier)',\n",
       " 'Idaho',\n",
       " 'Illinois',\n",
       " 'Indiana',\n",
       " 'Integrated Taxonomic Information System',\n",
       " 'Interim Register of Marine and Nonmarine Genera',\n",
       " 'International Plant Names Index',\n",
       " 'Iowa',\n",
       " 'JSTOR (identifier)',\n",
       " 'Jerusalem artichoke',\n",
       " 'Kansas',\n",
       " 'Kentucky',\n",
       " 'Land Institute',\n",
       " 'Larva',\n",
       " 'Leaves',\n",
       " 'List of Lepidoptera that feed on Helianthus',\n",
       " 'Long Island',\n",
       " 'Louisiana',\n",
       " 'Lower Mississippi Valley',\n",
       " 'Maine',\n",
       " 'Manitoba',\n",
       " 'Michigan',\n",
       " 'Michoacán',\n",
       " 'Minnesota',\n",
       " 'Mississippi',\n",
       " 'Missouri',\n",
       " 'Missouri Botanical Garden',\n",
       " 'Montana',\n",
       " 'National Biodiversity Network',\n",
       " 'National Center for Biotechnology Information',\n",
       " 'National Herbarium of Victoria',\n",
       " 'Natural Resources Conservation Service',\n",
       " 'Nevada',\n",
       " 'New Jersey',\n",
       " 'New Mexico',\n",
       " 'New York (state)',\n",
       " 'North America',\n",
       " 'North Carolina',\n",
       " 'Nuevo León',\n",
       " 'Ohio',\n",
       " 'Oklahoma',\n",
       " 'Ontario',\n",
       " 'Open Tree of Life',\n",
       " 'Open access',\n",
       " 'Oregon',\n",
       " 'PMC (identifier)',\n",
       " 'PMID (identifier)',\n",
       " 'Pappobolus imbaburensis',\n",
       " 'Pappus (flower structure)',\n",
       " 'Pennsylvania',\n",
       " 'Perennial',\n",
       " 'Perennial sunflower',\n",
       " 'Petiole (botany)',\n",
       " 'Phyllotaxis',\n",
       " 'Pine',\n",
       " 'Plant',\n",
       " 'Plant stem',\n",
       " 'Plants of the World Online',\n",
       " 'Pseudanthium',\n",
       " 'Pulvinus',\n",
       " 'Quebec',\n",
       " 'Royal Botanic Gardens, Kew',\n",
       " 'S2CID (identifier)',\n",
       " 'Silviculture',\n",
       " 'Sonora',\n",
       " 'South America',\n",
       " 'South Carolina',\n",
       " 'Species',\n",
       " 'Spiral',\n",
       " 'State Herbarium of South Australia',\n",
       " 'Stegocintractia junci',\n",
       " 'Sun',\n",
       " 'Sunflower (disambiguation)',\n",
       " 'Sunflower seed',\n",
       " 'Synonym (taxonomy)',\n",
       " 'Tamaulipas',\n",
       " 'Taxonomy (biology)',\n",
       " 'Temperateness',\n",
       " 'Tennessee',\n",
       " 'Texas',\n",
       " 'The Plant List',\n",
       " 'Tithonia',\n",
       " 'Tropical',\n",
       " 'Tropicos',\n",
       " 'U.S. Fish and Wildlife Service',\n",
       " 'Ukraine',\n",
       " 'United States Department of Agriculture',\n",
       " 'Utah',\n",
       " 'Vascular plant',\n",
       " 'Viguiera procumbens',\n",
       " 'Virginia',\n",
       " 'Washington (state)',\n",
       " 'Wayback Machine',\n",
       " 'West Virginia',\n",
       " 'Wikidata',\n",
       " 'Wikispecies',\n",
       " 'Wisconsin',\n",
       " 'World Flora Online',\n",
       " 'World Register of Marine Species',\n",
       " 'Wyoming']"
      ]
     },
     "execution_count": 34,
     "metadata": {},
     "output_type": "execute_result"
    }
   ],
   "source": [
    "#List of all links to an article\n",
    "import wikipedia\n",
    "wikipedia.page('sunflower').links"
   ]
  },
  {
   "cell_type": "code",
   "execution_count": 36,
   "id": "1a73ec28",
   "metadata": {},
   "outputs": [
    {
     "data": {
      "text/plain": [
       "'ഒരു വാർഷിക സസ്യമാണ് സൂര്യകാന്തി. ഇവയുടെ പൂവിന്റെ തണ്ട് 3 മീറ്റർ ഉയരത്തിൽ വരെ വളരാറുണ്ട്. 30 സെന്റീമീറ്റർ വരെ വ്യാസത്തിൽ കാണപ്പെടുന്ന പൂവിൽ വലിയ വിത്തുകൾ കാണാം. ജന്മദേശം അമേരിക്കയായ ഈ സസ്യത്തിന്റെ കുടുംബം “ആസ്റ്ററാസീയേ“(Asteraceae) ആണ്\\u200c.\\nഎണ്ണയോടൊപ്പം അമേരിക്കയിൽ നിന്നും 16ആം നൂറ്റാണ്ടിൽ യൂറോപ്പിലേക്ക് സൂര്യകാന്തി വിത്തുകൾ കൊണ്ടുവന്നു. സൂര്യകാന്തി പാചക എണ്ണ വളരെ പ്രചാരം നേടി. നാരുകൾ കൂടുതലുള്ളതുകൊണ്ട് പേപ്പർ നിർമ്മാണത്തിനും കാലിത്തീറ്റാ മിശ്രിതമായും സൂര്യകാന്തി ഇല ഉപയോഗിക്കാം.'"
      ]
     },
     "execution_count": 36,
     "metadata": {},
     "output_type": "execute_result"
    }
   ],
   "source": [
    "#Set Language\n",
    "import wikipedia\n",
    "wikipedia.set_lang('ml')\n",
    "wikipedia.summary('sunflower')"
   ]
  },
  {
   "cell_type": "code",
   "execution_count": 68,
   "id": "08608872",
   "metadata": {},
   "outputs": [],
   "source": [
    "                                         #Webscrapping"
   ]
  },
  {
   "cell_type": "code",
   "execution_count": 26,
   "id": "9c013453",
   "metadata": {},
   "outputs": [],
   "source": [
    "                                       #LinkedIn WebCrawler Bot"
   ]
  },
  {
   "cell_type": "code",
   "execution_count": 1,
   "id": "36866a1f",
   "metadata": {},
   "outputs": [
    {
     "name": "stdout",
     "output_type": "stream",
     "text": [
      "Enter The URL : https://www.linkedin.com/in/subiksha-sathiasai-9b3600195/\n",
      "Name :  SUBIKSHA SATHIASAI\n",
      "Works As :  Student | Web Developer | AI\n",
      "Connection :  1st degree connection\n",
      "  \n",
      "\n",
      "    1st\n",
      "Location :  Salem, Tamil Nadu, India\n"
     ]
    }
   ],
   "source": [
    "#LinkedIn Scrapping \n",
    "\n",
    "import time\n",
    "from bs4 import BeautifulSoup\n",
    "from selenium import webdriver\n",
    "from selenium.webdriver.common.by import By\n",
    "\n",
    "driver = webdriver.Chrome()\n",
    "driver.get(\"https://linkedin.com/uas/login\")\n",
    "time.sleep(5)\n",
    "\n",
    "username = driver.find_element(By.ID,\"username\")\n",
    "username.send_keys(\"iamanonimouzanoni@gmail.com\")\n",
    "\n",
    "pword = driver.find_element(By.ID,\"password\")\n",
    "pword.send_keys(\"9747957715\")\n",
    "\n",
    "driver.find_element(By.XPATH,\"//button[@type='submit']\").click()\n",
    "\n",
    "profile_url = \"https://www.linkedin.com/in/subiksha-sathiasai-9b3600195/\"\n",
    "driver.get(profile_url)\n",
    "\n",
    "#Scrolling Script\n",
    "\n",
    "start = time.time()\n",
    "initialScroll = 0\n",
    "finalScroll = 1000\n",
    "\n",
    "while(True):\n",
    "    driver.execute_script(f\"window.scrollTo({initialScroll},{finalScroll})\")\n",
    "    initialScroll = finalScroll\n",
    "    finalScroll+=1000\n",
    "    time.sleep(3)\n",
    "    \n",
    "    end=time.time()\n",
    "    if round(end-start)>10:\n",
    "        break\n",
    "        \n",
    "################\n",
    "#getting page source\n",
    "src = driver.page_source\n",
    "soup = BeautifulSoup(src,'lxml')\n",
    "\n",
    "#getting page introduction\n",
    "intro = soup.find('div',{'class':'pv-text-details__left-panel'})\n",
    "\n",
    "#Extracting HTML\n",
    "name_loc  = intro.find('h1')\n",
    "name = name_loc.get_text().strip()\n",
    "\n",
    "work_loc = intro.find(\"div\",{'class':'text-body-medium'})\n",
    "work = work_loc.get_text().strip()\n",
    "\n",
    "connection_loc = intro.find_all(\"span\", {'class': 'text-body-small'})\n",
    "connection = connection_loc[0].get_text().strip()\n",
    "\n",
    "location_loc = f\"/html/body/div[5]/div[3]/div/div/div[2]/div/div/main/section[1]/div[2]/div[2]/div[2]/span[1]\"\n",
    "location = driver.find_element(By.XPATH,location_loc)\n",
    "\n",
    "print(\"Name : \",name)\n",
    "print(\"Works As : \",work)\n",
    "print(\"Connection : \",connection)\n",
    "print(\"Location : \",location.text)\n",
    "\n",
    "#Going to jobs page\n",
    "jobs = driver.find_element(By.XPATH,\"//*[@id='global-nav']/div/nav/ul/li[3]/a\")\n",
    "jobs.click()"
   ]
  },
  {
   "cell_type": "code",
   "execution_count": 77,
   "id": "56801688",
   "metadata": {},
   "outputs": [],
   "source": [
    "#Download File\n",
    "from selenium import webdriver\n",
    "from selenium.webdriver.common.by import By\n",
    "\n",
    "driver = webdriver.Chrome()\n",
    "driver.get(\"https://demo.automationtesting.in/FileDownload.html\")\n",
    "\n",
    "driver.find_element(By.ID,\"textbox\").send_keys(\"Hello\")\n",
    "driver.find_element(By.ID,\"createTxt\").click()\n",
    "driver.find_element(By.XPATH,\"//*[@id='link-to-download']\").click() "
   ]
  },
  {
   "cell_type": "code",
   "execution_count": 90,
   "id": "ea70122f",
   "metadata": {},
   "outputs": [
    {
     "name": "stdout",
     "output_type": "stream",
     "text": [
      "782\n"
     ]
    }
   ],
   "source": [
    "#Count Number of links in webpage\n",
    "from selenium import webdriver\n",
    "from selenium.webdriver.common.by import By\n",
    "\n",
    "driver = webdriver.Chrome()\n",
    "driver.get(\"https://www.geeksforgeeks.org/\")\n",
    "\n",
    "links = driver.find_elements(By.TAG_NAME,\"a\")\n",
    "print(len(links))"
   ]
  },
  {
   "cell_type": "code",
   "execution_count": 92,
   "id": "2bd569d3",
   "metadata": {},
   "outputs": [
    {
     "name": "stdout",
     "output_type": "stream",
     "text": [
      "False\n",
      "True\n"
     ]
    }
   ],
   "source": [
    "#Search for text in page\n",
    "from selenium import webdriver\n",
    "from selenium.webdriver.common.by import By\n",
    "\n",
    "driver = webdriver.Chrome()\n",
    "driver.get(\"https://www.geeksforgeeks.org/\")\n",
    "\n",
    "src = driver.page_source\n",
    "text = \"Beauty\"\n",
    "text2 = \"geeks\"\n",
    "\n",
    "print(text in src)\n",
    "print(text2 in src)"
   ]
  },
  {
   "cell_type": "code",
   "execution_count": null,
   "id": "7af698f8",
   "metadata": {},
   "outputs": [],
   "source": []
  }
 ],
 "metadata": {
  "kernelspec": {
   "display_name": "Python 3 (ipykernel)",
   "language": "python",
   "name": "python3"
  },
  "language_info": {
   "codemirror_mode": {
    "name": "ipython",
    "version": 3
   },
   "file_extension": ".py",
   "mimetype": "text/x-python",
   "name": "python",
   "nbconvert_exporter": "python",
   "pygments_lexer": "ipython3",
   "version": "3.9.12"
  }
 },
 "nbformat": 4,
 "nbformat_minor": 5
}
